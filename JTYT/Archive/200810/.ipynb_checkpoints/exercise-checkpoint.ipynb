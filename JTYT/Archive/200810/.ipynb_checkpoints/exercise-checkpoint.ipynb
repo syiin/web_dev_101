{
 "cells": [
  {
   "cell_type": "markdown",
   "metadata": {},
   "source": [
    "1. Write a class that takes a number and has a method that converts to a Roman numeral:\n",
    "```\n",
    "x = RomNumConvert(10)\n",
    "x.convert() #returns \"X\"\n",
    "```"
   ]
  },
  {
   "cell_type": "code",
   "execution_count": 1,
   "metadata": {},
   "outputs": [],
   "source": [
    "class RomNumConvert:\n",
    "    def __init__(self, an_int):\n",
    "        pass\n",
    "    def convert(self):\n",
    "        pass"
   ]
  },
  {
   "cell_type": "markdown",
   "metadata": {},
   "source": [
    "1. Write a class that takes a pandas dataframe of time series data and has 2 methods:\n",
    "        1. Backtest.populate_tis() - calculates technical indicators and appends them to the dataframe* \n",
    "        1. Backtester.backtest() - which automatically backtests using a Moving Average strategy\n",
    "        1. Backtester.plot() - plots the partial autocorrelation, autocorrelation and histogram of returns \n",
    "\n",
    "* List of technical indicators:\n",
    "        1. Moving average with a 7 day spanning window\n",
    "        1. Moving average with a 21 day spanning window\n",
    "        1. Exponentially weighted moving average with a 26 day window\n",
    "        1. Exponentially moving average with a 12 day window\n",
    "        1. Moving Average Convergence Divergence (MACD)\n",
    "        1. Rolling standard deviation with a 20 day window\n",
    "        1. Upper Bollinger band & lower Bollinger band"
   ]
  },
  {
   "cell_type": "code",
   "execution_count": 2,
   "metadata": {},
   "outputs": [],
   "source": [
    "class Backtester:\n",
    "    def __init__(self, df):\n",
    "        pass\n",
    "    def backtest(self):\n",
    "        pass\n",
    "    def plot(self):\n",
    "        pass"
   ]
  }
 ],
 "metadata": {
  "kernelspec": {
   "display_name": "Python 3",
   "language": "python",
   "name": "python3"
  },
  "language_info": {
   "codemirror_mode": {
    "name": "ipython",
    "version": 3
   },
   "file_extension": ".py",
   "mimetype": "text/x-python",
   "name": "python",
   "nbconvert_exporter": "python",
   "pygments_lexer": "ipython3",
   "version": "3.8.3"
  }
 },
 "nbformat": 4,
 "nbformat_minor": 4
}
