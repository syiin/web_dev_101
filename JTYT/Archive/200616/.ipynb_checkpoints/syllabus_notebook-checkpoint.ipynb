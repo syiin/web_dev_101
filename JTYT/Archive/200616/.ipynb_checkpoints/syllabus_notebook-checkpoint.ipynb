{
 "cells": [
  {
   "cell_type": "markdown",
   "metadata": {},
   "source": [
    "# Numpy"
   ]
  },
  {
   "cell_type": "markdown",
   "metadata": {
    "heading_collapsed": true
   },
   "source": [
    "## Basic inspection\n",
    "1. Shape\n",
    "1. Indexing\n",
    "1. Slicing"
   ]
  },
  {
   "cell_type": "code",
   "execution_count": 58,
   "metadata": {
    "hidden": true
   },
   "outputs": [],
   "source": [
    "eps = np.random.normal(size=(10,10))"
   ]
  },
  {
   "cell_type": "code",
   "execution_count": 59,
   "metadata": {
    "hidden": true
   },
   "outputs": [
    {
     "data": {
      "text/plain": [
       "array([[-0.55134662, -1.32123296, -0.77531682, -1.77676511,  0.22112531,\n",
       "        -0.36710254, -0.62414251, -0.8239806 ,  0.48654447, -1.73845728],\n",
       "       [ 0.48327286, -0.15526044,  0.04213034,  0.8284995 , -0.71461822,\n",
       "        -0.12143617,  0.13263889, -1.11695118, -2.15494194, -0.4657275 ],\n",
       "       [ 0.11045119, -0.11944769, -0.60570519,  1.08520399,  0.20950388,\n",
       "         0.03471766, -0.73202768, -1.28685016,  0.24801558, -2.07370195],\n",
       "       [-0.97225595,  0.65761346, -0.58460905, -0.13414107,  0.34364972,\n",
       "        -1.11537217, -1.25067893, -0.54613475,  1.49282224,  1.95016978],\n",
       "       [ 1.19194288,  1.96803932, -0.31798826, -0.55073486,  0.15447976,\n",
       "         1.03735379,  0.06900697,  0.07121818, -0.32708374,  0.18055837],\n",
       "       [ 1.53632582, -1.73148899,  0.21145599, -0.81881099, -0.00789815,\n",
       "         0.85343224,  0.513983  ,  1.98354738,  0.01075607, -0.4413955 ],\n",
       "       [-1.5674508 , -1.51003411, -0.6437559 , -0.96954703, -0.70812413,\n",
       "         1.36851088,  1.30946173, -0.673009  ,  0.03901218, -2.10564848],\n",
       "       [-0.320394  , -0.81343776,  1.41923978,  0.38687412,  0.77097365,\n",
       "         0.1669967 ,  0.81388225, -1.91974577,  0.03660991, -0.57564708],\n",
       "       [ 0.4704017 , -0.24595414,  0.38482128, -0.12814592,  0.05263226,\n",
       "        -0.88096529,  1.95159594, -0.28209905,  0.41008366,  1.44696536],\n",
       "       [-1.3059669 , -0.6833947 ,  0.44982395,  2.3359743 , -1.31257003,\n",
       "         0.24207523,  0.5716898 ,  1.66115254,  0.00686733, -0.62781158]])"
      ]
     },
     "execution_count": 59,
     "metadata": {},
     "output_type": "execute_result"
    }
   ],
   "source": [
    "eps"
   ]
  },
  {
   "cell_type": "code",
   "execution_count": 45,
   "metadata": {
    "hidden": true
   },
   "outputs": [
    {
     "data": {
      "text/plain": [
       "(10, 10)"
      ]
     },
     "execution_count": 45,
     "metadata": {},
     "output_type": "execute_result"
    }
   ],
   "source": [
    "eps.shape"
   ]
  },
  {
   "cell_type": "code",
   "execution_count": 54,
   "metadata": {
    "hidden": true
   },
   "outputs": [
    {
     "data": {
      "text/plain": [
       "array([ 0.86801871, -1.22231901, -0.57090624,  0.95467843,  0.50886394,\n",
       "       -1.09035658, -1.61908054, -0.25474128,  0.75327088, -0.58452373])"
      ]
     },
     "execution_count": 54,
     "metadata": {},
     "output_type": "execute_result"
    }
   ],
   "source": [
    "eps[0]"
   ]
  },
  {
   "cell_type": "code",
   "execution_count": 55,
   "metadata": {
    "hidden": true
   },
   "outputs": [
    {
     "data": {
      "text/plain": [
       "-1.222319008464468"
      ]
     },
     "execution_count": 55,
     "metadata": {},
     "output_type": "execute_result"
    }
   ],
   "source": [
    "eps[0][1] #first row, second item in that row"
   ]
  },
  {
   "cell_type": "code",
   "execution_count": 49,
   "metadata": {
    "hidden": true
   },
   "outputs": [
    {
     "data": {
      "text/plain": [
       "array([-0.74194718,  0.44958299, -0.69990829, -1.29666529,  0.60951471,\n",
       "       -0.51454054,  0.29932294, -0.31176554, -1.0451433 ,  1.38749686])"
      ]
     },
     "execution_count": 49,
     "metadata": {},
     "output_type": "execute_result"
    }
   ],
   "source": [
    "eps[:, 0] # all rows, first column"
   ]
  },
  {
   "cell_type": "code",
   "execution_count": 50,
   "metadata": {
    "hidden": true
   },
   "outputs": [
    {
     "data": {
      "text/plain": [
       "array([-0.1391041 , -0.59526567, -1.26951385, -0.29160107, -1.25953986,\n",
       "       -0.54257211,  0.07680532, -1.00949065,  0.29549888, -0.53787988])"
      ]
     },
     "execution_count": 50,
     "metadata": {},
     "output_type": "execute_result"
    }
   ],
   "source": [
    "eps[:, 1] # all rows, second column"
   ]
  },
  {
   "cell_type": "code",
   "execution_count": 52,
   "metadata": {
    "hidden": true
   },
   "outputs": [
    {
     "data": {
      "text/plain": [
       "array([[-0.74194718, -0.1391041 ],\n",
       "       [ 0.44958299, -0.59526567],\n",
       "       [-0.69990829, -1.26951385],\n",
       "       [-1.29666529, -0.29160107],\n",
       "       [ 0.60951471, -1.25953986],\n",
       "       [-0.51454054, -0.54257211],\n",
       "       [ 0.29932294,  0.07680532],\n",
       "       [-0.31176554, -1.00949065],\n",
       "       [-1.0451433 ,  0.29549888],\n",
       "       [ 1.38749686, -0.53787988]])"
      ]
     },
     "execution_count": 52,
     "metadata": {},
     "output_type": "execute_result"
    }
   ],
   "source": [
    "eps[:, :2] # all rows, first 2 columns"
   ]
  },
  {
   "cell_type": "markdown",
   "metadata": {},
   "source": [
    "## Basic Manipulation\n",
    "\n",
    "1. Scalar operations\n",
    "1. Matrix operations"
   ]
  },
  {
   "cell_type": "code",
   "execution_count": null,
   "metadata": {},
   "outputs": [],
   "source": [
    "X = np.array([[1, 2], \n",
    "              [3, 4]])"
   ]
  },
  {
   "cell_type": "code",
   "execution_count": 69,
   "metadata": {},
   "outputs": [
    {
     "data": {
      "text/plain": [
       "array([1, 2, 3, 4])"
      ]
     },
     "execution_count": 69,
     "metadata": {},
     "output_type": "execute_result"
    }
   ],
   "source": [
    "X = np.arange(1, 5); X"
   ]
  },
  {
   "cell_type": "code",
   "execution_count": 70,
   "metadata": {},
   "outputs": [
    {
     "data": {
      "text/plain": [
       "array([3, 4, 5, 6])"
      ]
     },
     "execution_count": 70,
     "metadata": {},
     "output_type": "execute_result"
    }
   ],
   "source": [
    "X + 2"
   ]
  },
  {
   "cell_type": "code",
   "execution_count": 71,
   "metadata": {},
   "outputs": [
    {
     "data": {
      "text/plain": [
       "array([2, 4, 6, 8])"
      ]
     },
     "execution_count": 71,
     "metadata": {},
     "output_type": "execute_result"
    }
   ],
   "source": [
    "X * 2"
   ]
  },
  {
   "cell_type": "code",
   "execution_count": 72,
   "metadata": {},
   "outputs": [
    {
     "data": {
      "text/plain": [
       "array([0.5, 1. , 1.5, 2. ])"
      ]
     },
     "execution_count": 72,
     "metadata": {},
     "output_type": "execute_result"
    }
   ],
   "source": [
    "X / 2"
   ]
  },
  {
   "cell_type": "code",
   "execution_count": 76,
   "metadata": {},
   "outputs": [
    {
     "data": {
      "text/plain": [
       "array([5, 6, 7, 8])"
      ]
     },
     "execution_count": 76,
     "metadata": {},
     "output_type": "execute_result"
    }
   ],
   "source": [
    "A = np.arange(5,9); A"
   ]
  },
  {
   "cell_type": "markdown",
   "metadata": {},
   "source": [
    "### Matrix Operations"
   ]
  },
  {
   "cell_type": "markdown",
   "metadata": {},
   "source": [
    "$\\begin{pmatrix}{x_1\\\\x_2\\\\...\\\\x_n}\\end{pmatrix} . \\begin{pmatrix}{a_1\\\\a_2\\\\...\\\\a_n}\\end{pmatrix} = a_1 . x_1 + a_2 . x_2 + ... +  a_n . x_n$"
   ]
  },
  {
   "cell_type": "code",
   "execution_count": 96,
   "metadata": {},
   "outputs": [
    {
     "name": "stdout",
     "output_type": "stream",
     "text": [
      "original vectors:\n",
      "[5 6 7 8]\n",
      "[1 2 3 4]\n",
      "70\n"
     ]
    }
   ],
   "source": [
    "print(\"original vectors:\")\n",
    "print(A)\n",
    "print(X)\n",
    "\n",
    "result = np.matmul(A, X) #matrix multuplication, in this case, the dot product\n",
    "print(result)"
   ]
  },
  {
   "cell_type": "markdown",
   "metadata": {},
   "source": [
    "\\begin{equation*}\n",
    "    \\begin{pmatrix}\n",
    "    x_{11} & x_{12} & ... & x_{1n} \\\\\n",
    "    x_{21} & x_{22} & ... & x_{2n} \\\\\n",
    "    ... & ... & ... & ... \\\\\n",
    "    x_{m1} & x_{m2} & ... & x_{mn}\n",
    "    \\end{pmatrix}\n",
    "    \\begin{pmatrix}\n",
    "    a_{11} & a_{12} & ... & a_{1n} \\\\\n",
    "    a_{21} & a_{22} & ... & a_{2n} \\\\\n",
    "    ... & ... & ... & ... \\\\\n",
    "    a_{m1} & a_{m2} & ... & a_{mn}\n",
    "    \\end{pmatrix}\n",
    "\\end{equation*}"
   ]
  },
  {
   "cell_type": "code",
   "execution_count": 95,
   "metadata": {},
   "outputs": [
    {
     "name": "stdout",
     "output_type": "stream",
     "text": [
      "original matrix:\n",
      "[[1, 0], [0, 1]]\n",
      "[[1, 2], [3, 4]]\n"
     ]
    },
    {
     "data": {
      "text/plain": [
       "array([[1, 2],\n",
       "       [3, 4]])"
      ]
     },
     "execution_count": 95,
     "metadata": {},
     "output_type": "execute_result"
    }
   ],
   "source": [
    "p = [[1, 0], [0, 1]]\n",
    "q = [[1, 2], [3, 4]]\n",
    "\n",
    "print(\"original matrix:\")\n",
    "print(p)\n",
    "print(q)\n",
    "\n",
    "result = np.matmul(p, q)\n",
    "result"
   ]
  },
  {
   "cell_type": "code",
   "execution_count": 78,
   "metadata": {},
   "outputs": [
    {
     "data": {
      "text/plain": [
       "70"
      ]
     },
     "execution_count": 78,
     "metadata": {},
     "output_type": "execute_result"
    }
   ],
   "source": [
    "5 + 12 + 21 + 32"
   ]
  },
  {
   "cell_type": "code",
   "execution_count": 83,
   "metadata": {},
   "outputs": [
    {
     "data": {
      "text/plain": [
       "2.5"
      ]
     },
     "execution_count": 83,
     "metadata": {},
     "output_type": "execute_result"
    }
   ],
   "source": [
    "np.mean(X) #calculate the mean"
   ]
  },
  {
   "cell_type": "code",
   "execution_count": 86,
   "metadata": {},
   "outputs": [
    {
     "data": {
      "text/plain": [
       "array([1.5, 3.5])"
      ]
     },
     "execution_count": 86,
     "metadata": {},
     "output_type": "execute_result"
    }
   ],
   "source": [
    "a = np.array([[1, 2], [3, 4]])\n",
    "np.mean(a, axis=1) #calculate mean across a specific axis/dimension"
   ]
  },
  {
   "cell_type": "markdown",
   "metadata": {
    "heading_collapsed": true
   },
   "source": [
    "# Synthetic Line"
   ]
  },
  {
   "cell_type": "markdown",
   "metadata": {
    "hidden": true
   },
   "source": [
    "Equation for a line: $y = mx + \\epsilon$"
   ]
  },
  {
   "cell_type": "code",
   "execution_count": 26,
   "metadata": {
    "hidden": true
   },
   "outputs": [],
   "source": [
    "import numpy as np\n",
    "import matplotlib.pyplot as plt"
   ]
  },
  {
   "cell_type": "code",
   "execution_count": 37,
   "metadata": {
    "hidden": true
   },
   "outputs": [
    {
     "data": {
      "text/plain": [
       "array([   1,    2,    3, ..., 8997, 8998, 8999])"
      ]
     },
     "execution_count": 37,
     "metadata": {},
     "output_type": "execute_result"
    }
   ],
   "source": [
    "n = 9000\n",
    "X = np.arange(1, n, 1); X"
   ]
  },
  {
   "cell_type": "markdown",
   "metadata": {
    "hidden": true
   },
   "source": [
    "Assume that the error is normally distributed: $\\epsilon = N(0, \\sigma^2)$"
   ]
  },
  {
   "cell_type": "code",
   "execution_count": 38,
   "metadata": {
    "hidden": true
   },
   "outputs": [
    {
     "data": {
      "text/plain": [
       "array([ 0.30935593, -0.95073389,  1.13660972])"
      ]
     },
     "execution_count": 38,
     "metadata": {},
     "output_type": "execute_result"
    }
   ],
   "source": [
    "eps = np.random.normal(size=(X.shape)); eps[:3]"
   ]
  },
  {
   "cell_type": "code",
   "execution_count": 39,
   "metadata": {
    "hidden": true
   },
   "outputs": [
    {
     "data": {
      "text/plain": [
       "(array([   8.,   88.,  572., 1616., 2652., 2494., 1160.,  347.,   55.,\n",
       "           7.]),\n",
       " array([-3.81830333, -3.03013849, -2.24197364, -1.4538088 , -0.66564395,\n",
       "         0.12252089,  0.91068574,  1.69885058,  2.48701542,  3.27518027,\n",
       "         4.06334511]),\n",
       " <a list of 10 Patch objects>)"
      ]
     },
     "execution_count": 39,
     "metadata": {},
     "output_type": "execute_result"
    },
    {
     "data": {
      "image/png": "[encoded data removed]",
      "text/plain": [
       "<Figure size 432x288 with 1 Axes>"
      ]
     },
     "metadata": {
      "needs_background": "light"
     },
     "output_type": "display_data"
    }
   ],
   "source": [
    "plt.hist(eps)"
   ]
  },
  {
   "cell_type": "code",
   "execution_count": 40,
   "metadata": {
    "hidden": true
   },
   "outputs": [
    {
     "data": {
      "text/plain": [
       "array([2.30935593e+00, 3.04926611e+00, 7.13660972e+00, ...,\n",
       "       1.79922790e+04, 1.79954576e+04, 1.79966995e+04])"
      ]
     },
     "execution_count": 40,
     "metadata": {},
     "output_type": "execute_result"
    }
   ],
   "source": [
    "m = 2\n",
    "y = X * m + eps #scalar multiplication\n",
    "y"
   ]
  },
  {
   "cell_type": "code",
   "execution_count": 41,
   "metadata": {
    "hidden": true
   },
   "outputs": [
    {
     "data": {
      "image/png": "[encoded data removed]",
      "text/plain": [
       "<Figure size 432x288 with 1 Axes>"
      ]
     },
     "metadata": {
      "needs_background": "light"
     },
     "output_type": "display_data"
    }
   ],
   "source": [
    "fig = plt.figure()\n",
    "ax = plt.axes()\n",
    "\n",
    "ax.plot(X, y);\n",
    "plt.show()"
   ]
  },
  {
   "cell_type": "code",
   "execution_count": null,
   "metadata": {
    "hidden": true
   },
   "outputs": [],
   "source": []
  },
  {
   "cell_type": "markdown",
   "metadata": {},
   "source": [
    "# Exercises"
   ]
  },
  {
   "cell_type": "markdown",
   "metadata": {},
   "source": [
    "1. Write a Matrix class that holds a rectangular matrix of numbers represented as a multidimensional list (eg. `[[1,2],[3,4]]`). It should have the methods below:\n",
    "```\n",
    "class Matrix():\n",
    "    def __init__(self, arr):\n",
    "        \"\"\"\n",
    "        Initialise the matrix object with a multidimensional array \n",
    "        eg. \n",
    "        matrix = Matrix([[1,2],\n",
    "                         [3,4]])\n",
    "        \"\"\"\n",
    "        self.arr = arr\n",
    "        pass\n",
    "    def location(self, row, column):\n",
    "        \"\"\"\n",
    "        Retrieve a value at a specific integer row and column in the matrix. \n",
    "        row: int\n",
    "        column: int\n",
    "        returns: int\n",
    "        eg.\n",
    "        matrix.location(0,0) #returns 1 \n",
    "        \"\"\"\n",
    "        pass\n",
    "    def reduce_sum(self, axis):\n",
    "        \"\"\"\n",
    "        Sum up the values across a given axis and returns a list \n",
    "        axis: int\n",
    "        returns: List\n",
    "        eg.\n",
    "        matrix.reduce_sum(0) # sums up the values across the row [3, 7]\n",
    "        matrix.reduce_sum(1) # sum up the values across the column [4, 6]\n",
    "        \"\"\"\n",
    "    def reduce_mean(self, axis):\n",
    "        \"\"\"\n",
    "        Calculate the mean across a given axis and returns a list\n",
    "        axis: int\n",
    "        returns: List\n",
    "        eg.\n",
    "        matrix.reduce_mean(0) # mean across rows [3/2, 7 /2] = [1.5, 3.5]\n",
    "        matrix.reduce_mean(1) # mean across the rows is [4/2, 6/2] = [2, 3]\n",
    "        \"\"\"\n",
    "```\n",
    "\n",
    "1. "
   ]
  },
  {
   "cell_type": "code",
   "execution_count": null,
   "metadata": {},
   "outputs": [],
   "source": [
    "class Matrix():\n",
    "    def __init__(self, arr):\n",
    "        \"\"\"\n",
    "        Initialise the matrix object with a multidimensional array \n",
    "        eg. \n",
    "        matrix = Matrix([[1,2],\n",
    "                         [3,4]])\n",
    "        \"\"\"\n",
    "        self.arr = arr\n",
    "        pass\n",
    "    def location(self, row, column):\n",
    "        \"\"\"\n",
    "        Retrieve a value at a specific integer row and column in the matrix. \n",
    "        row: int\n",
    "        column: int\n",
    "        returns: int\n",
    "        eg.\n",
    "        matrix.location(0,0) #returns 1 \n",
    "        \"\"\"\n",
    "        pass\n",
    "    def reduce_sum(self, axis):\n",
    "        \"\"\"\n",
    "        Sum up the values across a given axis and returns a list \n",
    "        axis: int\n",
    "        returns: List\n",
    "        eg.\n",
    "        matrix.reduce_sum(0) # sums up the values across the row [3, 7]\n",
    "        matrix.reduce_sum(1) # sum up the values across the column [4, 6]\n",
    "        \"\"\"\n",
    "    def reduce_mean(self, axis):\n",
    "        \"\"\"\n",
    "        Calculate the mean across a given axis and returns a list\n",
    "        axis: int\n",
    "        returns: List\n",
    "        eg.\n",
    "        matrix.reduce_mean(0) # mean across rows [3/2, 7 /2] = [1.5, 3.5]\n",
    "        matrix.reduce_mean(1) # mean across the rows is [4/2, 6/2] = [2, 3]\n",
    "        \"\"\""
   ]
  }
 ],
 "metadata": {
  "kernelspec": {
   "display_name": "TF2",
   "language": "python",
   "name": "tf2alpha"
  },
  "language_info": {
   "codemirror_mode": {
    "name": "ipython",
    "version": 3
   },
   "file_extension": ".py",
   "mimetype": "text/x-python",
   "name": "python",
   "nbconvert_exporter": "python",
   "pygments_lexer": "ipython3",
   "version": "3.6.10"
  },
  "latex_envs": {
   "LaTeX_envs_menu_present": true,
   "autoclose": false,
   "autocomplete": true,
   "bibliofile": "biblio.bib",
   "cite_by": "apalike",
   "current_citInitial": 1,
   "eqLabelWithNumbers": true,
   "eqNumInitial": 1,
   "hotkeys": {
    "equation": "Ctrl-E",
    "itemize": "Ctrl-I"
   },
   "labels_anchors": false,
   "latex_user_defs": false,
   "report_style_numbering": false,
   "user_envs_cfg": false
  },
  "toc": {
   "base_numbering": 1,
   "nav_menu": {},
   "number_sections": true,
   "sideBar": true,
   "skip_h1_title": false,
   "title_cell": "Table of Contents",
   "title_sidebar": "Contents",
   "toc_cell": false,
   "toc_position": {},
   "toc_section_display": true,
   "toc_window_display": false
  }
 },
 "nbformat": 4,
 "nbformat_minor": 2
}
