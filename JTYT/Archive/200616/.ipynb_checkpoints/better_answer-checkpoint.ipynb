{
 "cells": [
  {
   "cell_type": "code",
   "execution_count": 29,
   "metadata": {},
   "outputs": [],
   "source": [
    "class Matrix():\n",
    "    def __init__(self, arr):\n",
    "        \"\"\"\n",
    "        Initialise the matrix object with a multidimensional list (or just a list if a vector)\\\n",
    "        arr: List\n",
    "        eg. \n",
    "        matrix = Matrix([[1,2],\n",
    "                         [3,4]])\n",
    "        \"\"\"\n",
    "        self.data = arr\n",
    "    def flatten(self):\n",
    "        \"\"\"\n",
    "        Flatten the multidimensional array and return it as a list\n",
    "        returns: List\n",
    "        eg.\n",
    "        matrix.flatten() #[1,2,3,4]\n",
    "        \"\"\"\n",
    "        if self.data == []:\n",
    "        return S\n",
    "        if isinstance(S[0], list):\n",
    "            return flatten(S[0]) + flatten(S[1:])\n",
    "        return S[:1] + flatten(S[1:])\n",
    "    \n",
    "    def scalar_multiply(self, scalar):\n",
    "        \"\"\"\n",
    "        Multiply the entire matrix by a scalar and return it as a list\n",
    "        scalar: int\n",
    "        returns: List\n",
    "        eg.\n",
    "        matrix.scalar_multiply(2) #[[2,4], \n",
    "                                    [6,8]]\n",
    "        \"\"\"\n",
    "        outp_list = []\n",
    "        for i in self.data:\n",
    "            tmp_list = []\n",
    "            for j in i:\n",
    "                tmp_list.append(j * scalar)\n",
    "            outp_list.append(tmp_list)\n",
    "        return Matrix(outp_list)\n",
    "                \n",
    "    def location(self, row, column):\n",
    "        \"\"\"\n",
    "        Retrieve a value at a specific integer row and column in the matrix. \n",
    "        row: int\n",
    "        column: int\n",
    "        returns: int\n",
    "        eg.\n",
    "        matrix.location(0, 0) #returns 1 \n",
    "        matrix.location(0, 1) #returns 2\n",
    "        matrix.location(1, 0) #returns 3\n",
    "        matrix.location(1, 1) #returns 4\n",
    "        \"\"\"\n",
    "        return Matrix(self.data[row][column])\n",
    "    def max_along_axis(self, axis):\n",
    "        \"\"\"\n",
    "        Retrieve the max value along an axis\n",
    "        axis: int\n",
    "        returns: int\n",
    "        eg. \n",
    "        matrix.max_long_axis(0) #maximum in each row is [2, 4]\n",
    "        matrix.max_long_axis(1) #maximum in each column is [3, 4]\n",
    "        \"\"\"\n",
    "        if axis == 0:\n",
    "            return Matrix([max(o) for o in self.data])\n",
    "        elif axis == 1:\n",
    "            row_len = len(self.data[0])\n",
    "            max_dict = {i:[] for i in range(row_len)}\n",
    "            for row in self.data:\n",
    "                for idx, item in enumerate(row):\n",
    "                    max_dict[idx].append(item)\n",
    "        return Matrix([max(o) for o in max_dict.values()])\n",
    "\n",
    "    def slice_axis(self, axis, idx):\n",
    "        \"\"\"\n",
    "        Return an entire axis \n",
    "        axis: int\n",
    "        idx: int\n",
    "        returns: List\n",
    "        eg. \n",
    "        #0th dimension, 0th slice \n",
    "        matrix.get_axis(0, 0) #[1,2]\n",
    "        #0th dimension, 1st slice \n",
    "        matrix.get_axis(0, 1) #[3,4]\n",
    "        #1st dimension, 0th slice \n",
    "        matrix.get_axis(1, 0) #[[1],\n",
    "                                [3]]\n",
    "        #1st dimension, 1st slice \n",
    "        matrix.get_axis(1, 1) #[[2],\n",
    "                                [4]]\n",
    "        \"\"\"\n",
    "        if axis == 0:\n",
    "            for i, o in enumerate(self.data):\n",
    "                if i == idx:\n",
    "                    return Matrix(o)\n",
    "        else:\n",
    "            outp_list = []\n",
    "            for row in self.data:\n",
    "                outp_list.append([element for i, element in enumerate(row) if i == idx])\n",
    "            return Matrix(outp_list)\n",
    "            \n",
    "    def reduce_sum(self, axis):\n",
    "        \"\"\"\n",
    "        Sum up the values across a given axis and returns a list \n",
    "        axis: int\n",
    "        returns: List\n",
    "        eg.\n",
    "        matrix.reduce_sum(0) # sums up the values across the row [3, 7]\n",
    "        matrix.reduce_sum(1) # sum up the values across the column [4, 6]\n",
    "        \"\"\"\n",
    "        if axis == 0:\n",
    "            return Matrix([sum(o) for o in self.data]) \n",
    "        elif axis == 1:\n",
    "            row_len = len(self.data[0])\n",
    "            max_dict = {i:[] for i in range(row_len)}\n",
    "            for row in self.data:\n",
    "                for idx, item in enumerate(row):\n",
    "                    max_dict[idx].append(item)\n",
    "        return Matrix([sum(o) for o in max_dict.values()])\n",
    "    \n",
    "    def reduce_mean(self, axis):\n",
    "        \"\"\"\n",
    "        Calculate the mean across a given axis and returns a list\n",
    "        axis: int\n",
    "        returns: List\n",
    "        eg.\n",
    "        matrix.reduce_mean(0) # mean across rows [3/2, 7 /2] = [1.5, 3.5]\n",
    "        matrix.reduce_mean(1) # mean across the rows is [4/2, 6/2] = [2, 3]\n",
    "        \"\"\"\n",
    "        dim_at_axis = self.get_len_at_depth(axis)\n",
    "        sum_arr = self.reduce_sum(axis)\n",
    "        return Matrix([o / dim_at_axis for o in sum_arr.data])\n",
    "        \n",
    "    def get_len_at_depth(self, depth):\n",
    "        \"\"\"\n",
    "        Get the length of the data list at a given depth\n",
    "        \"\"\"\n",
    "        curr_arr = self.data\n",
    "        for i in range(depth):\n",
    "            curr_arr = curr_arr[0]\n",
    "        return len(curr_arr)\n",
    "    \n",
    "    def get_max_depth(self):\n",
    "        \"\"\"\n",
    "        Get the max depth of a nested list\n",
    "        \"\"\"\n",
    "        curr_arr = self.data\n",
    "        count = 0\n",
    "        while isinstance(curr_arr, list):\n",
    "            curr_arr = curr_arr[0]\n",
    "            count += 1\n",
    "        return count\n",
    "            \n",
    "    def __str__(self):\n",
    "        return str(self.data)\n",
    "    \n",
    "    def __repr__(self):\n",
    "        outp_str = \"\"\n",
    "        for row in self.data:\n",
    "            outp_str += f\"{row} \\n\"\n",
    "        return outp_str"
   ]
  },
  {
   "cell_type": "code",
   "execution_count": 30,
   "metadata": {},
   "outputs": [],
   "source": [
    "m = Matrix([1,2,3])"
   ]
  },
  {
   "cell_type": "code",
   "execution_count": 31,
   "metadata": {},
   "outputs": [
    {
     "data": {
      "text/plain": [
       "1"
      ]
     },
     "execution_count": 31,
     "metadata": {},
     "output_type": "execute_result"
    }
   ],
   "source": [
    "m.get_max_depth()"
   ]
  },
  {
   "cell_type": "code",
   "execution_count": 32,
   "metadata": {},
   "outputs": [
    {
     "ename": "KeyboardInterrupt",
     "evalue": "",
     "output_type": "error",
     "traceback": [
      "\u001b[0;31m---------------------------------------------------------------------------\u001b[0m",
      "\u001b[0;31mKeyboardInterrupt\u001b[0m                         Traceback (most recent call last)",
      "\u001b[0;32m<ipython-input-32-8a13d9375246>\u001b[0m in \u001b[0;36m<module>\u001b[0;34m\u001b[0m\n\u001b[0;32m----> 1\u001b[0;31m \u001b[0mm\u001b[0m\u001b[0;34m.\u001b[0m\u001b[0mflatten\u001b[0m\u001b[0;34m(\u001b[0m\u001b[0;34m)\u001b[0m\u001b[0;34m\u001b[0m\u001b[0;34m\u001b[0m\u001b[0m\n\u001b[0m",
      "\u001b[0;32m<ipython-input-29-c483e13cfc90>\u001b[0m in \u001b[0;36mflatten\u001b[0;34m(self)\u001b[0m\n\u001b[1;32m     23\u001b[0m         \u001b[0;32mwhile\u001b[0m \u001b[0misinstance\u001b[0m\u001b[0;34m(\u001b[0m\u001b[0mcurr_level\u001b[0m\u001b[0;34m,\u001b[0m \u001b[0mlist\u001b[0m\u001b[0;34m)\u001b[0m\u001b[0;34m:\u001b[0m\u001b[0;34m\u001b[0m\u001b[0;34m\u001b[0m\u001b[0m\n\u001b[1;32m     24\u001b[0m             \u001b[0;32mfor\u001b[0m \u001b[0mi\u001b[0m \u001b[0;32min\u001b[0m \u001b[0mcurr_level\u001b[0m\u001b[0;34m:\u001b[0m\u001b[0;34m\u001b[0m\u001b[0;34m\u001b[0m\u001b[0m\n\u001b[0;32m---> 25\u001b[0;31m                 \u001b[0moutp_arr\u001b[0m\u001b[0;34m.\u001b[0m\u001b[0mappend\u001b[0m\u001b[0;34m(\u001b[0m\u001b[0mi\u001b[0m\u001b[0;34m)\u001b[0m\u001b[0;34m\u001b[0m\u001b[0;34m\u001b[0m\u001b[0m\n\u001b[0m\u001b[1;32m     26\u001b[0m     \u001b[0;32mdef\u001b[0m \u001b[0mscalar_multiply\u001b[0m\u001b[0;34m(\u001b[0m\u001b[0mself\u001b[0m\u001b[0;34m,\u001b[0m \u001b[0mscalar\u001b[0m\u001b[0;34m)\u001b[0m\u001b[0;34m:\u001b[0m\u001b[0;34m\u001b[0m\u001b[0;34m\u001b[0m\u001b[0m\n\u001b[1;32m     27\u001b[0m         \"\"\"\n",
      "\u001b[0;31mKeyboardInterrupt\u001b[0m: "
     ]
    }
   ],
   "source": [
    "m.flatten()"
   ]
  },
  {
   "cell_type": "code",
   "execution_count": 182,
   "metadata": {},
   "outputs": [
    {
     "data": {
      "text/plain": [
       "[2, 4, 6] \n",
       "[8, 10, 12] "
      ]
     },
     "execution_count": 182,
     "metadata": {},
     "output_type": "execute_result"
    }
   ],
   "source": [
    "m.scalar_multiply(2)"
   ]
  },
  {
   "cell_type": "code",
   "execution_count": 183,
   "metadata": {},
   "outputs": [
    {
     "data": {
      "text/plain": [
       "3"
      ]
     },
     "execution_count": 183,
     "metadata": {},
     "output_type": "execute_result"
    }
   ],
   "source": [
    "m.location(0,2).data"
   ]
  },
  {
   "cell_type": "code",
   "execution_count": 184,
   "metadata": {},
   "outputs": [
    {
     "data": {
      "text/plain": [
       "[3, 6]"
      ]
     },
     "execution_count": 184,
     "metadata": {},
     "output_type": "execute_result"
    }
   ],
   "source": [
    "m.max_along_axis(0).data"
   ]
  },
  {
   "cell_type": "code",
   "execution_count": 185,
   "metadata": {},
   "outputs": [
    {
     "data": {
      "text/plain": [
       "[4, 5, 6]"
      ]
     },
     "execution_count": 185,
     "metadata": {},
     "output_type": "execute_result"
    }
   ],
   "source": [
    "m.max_along_axis(1).data"
   ]
  },
  {
   "cell_type": "code",
   "execution_count": 186,
   "metadata": {},
   "outputs": [
    {
     "data": {
      "text/plain": [
       "[1, 2, 3]"
      ]
     },
     "execution_count": 186,
     "metadata": {},
     "output_type": "execute_result"
    }
   ],
   "source": [
    "m.slice_axis(0,0).data"
   ]
  },
  {
   "cell_type": "code",
   "execution_count": 187,
   "metadata": {},
   "outputs": [
    {
     "data": {
      "text/plain": [
       "[[3], [6]]"
      ]
     },
     "execution_count": 187,
     "metadata": {},
     "output_type": "execute_result"
    }
   ],
   "source": [
    "m.slice_axis(1,2).data"
   ]
  },
  {
   "cell_type": "code",
   "execution_count": 188,
   "metadata": {},
   "outputs": [
    {
     "data": {
      "text/plain": [
       "[6, 15]"
      ]
     },
     "execution_count": 188,
     "metadata": {},
     "output_type": "execute_result"
    }
   ],
   "source": [
    "m.reduce_sum(0).data"
   ]
  },
  {
   "cell_type": "code",
   "execution_count": 189,
   "metadata": {},
   "outputs": [
    {
     "data": {
      "text/plain": [
       "[5, 7, 9]"
      ]
     },
     "execution_count": 189,
     "metadata": {},
     "output_type": "execute_result"
    }
   ],
   "source": [
    "m.reduce_sum(1).data"
   ]
  },
  {
   "cell_type": "code",
   "execution_count": 190,
   "metadata": {},
   "outputs": [
    {
     "data": {
      "text/plain": [
       "[3.0, 7.5]"
      ]
     },
     "execution_count": 190,
     "metadata": {},
     "output_type": "execute_result"
    }
   ],
   "source": [
    "m.reduce_mean(0).data"
   ]
  },
  {
   "cell_type": "code",
   "execution_count": 191,
   "metadata": {},
   "outputs": [
    {
     "data": {
      "text/plain": [
       "[1.6666666666666667, 2.3333333333333335, 3.0]"
      ]
     },
     "execution_count": 191,
     "metadata": {},
     "output_type": "execute_result"
    }
   ],
   "source": [
    "m.reduce_mean(1).data"
   ]
  },
  {
   "cell_type": "markdown",
   "metadata": {},
   "source": [
    "defining __str__ let's us decide what shows up when we run `print(class_instance)`. Defining __repr__ let's us decide what happens when we just leave the variable on the stack `m`"
   ]
  },
  {
   "cell_type": "code",
   "execution_count": 192,
   "metadata": {},
   "outputs": [
    {
     "data": {
      "text/plain": [
       "[1, 2, 3] \n",
       "[4, 5, 6] "
      ]
     },
     "execution_count": 192,
     "metadata": {},
     "output_type": "execute_result"
    }
   ],
   "source": [
    "m #from __repr__"
   ]
  },
  {
   "cell_type": "code",
   "execution_count": 193,
   "metadata": {},
   "outputs": [
    {
     "name": "stdout",
     "output_type": "stream",
     "text": [
      "[[1, 2, 3], [4, 5, 6]]\n"
     ]
    }
   ],
   "source": [
    "print(m) #from __str__"
   ]
  }
 ],
 "metadata": {
  "kernelspec": {
   "display_name": "pydev",
   "language": "python",
   "name": "pydev"
  },
  "language_info": {
   "codemirror_mode": {
    "name": "ipython",
    "version": 3
   },
   "file_extension": ".py",
   "mimetype": "text/x-python",
   "name": "python",
   "nbconvert_exporter": "python",
   "pygments_lexer": "ipython3",
   "version": "3.7.4"
  },
  "latex_envs": {
   "LaTeX_envs_menu_present": true,
   "autoclose": false,
   "autocomplete": true,
   "bibliofile": "biblio.bib",
   "cite_by": "apalike",
   "current_citInitial": 1,
   "eqLabelWithNumbers": true,
   "eqNumInitial": 1,
   "hotkeys": {
    "equation": "Ctrl-E",
    "itemize": "Ctrl-I"
   },
   "labels_anchors": false,
   "latex_user_defs": false,
   "report_style_numbering": false,
   "user_envs_cfg": false
  },
  "toc": {
   "base_numbering": 1,
   "nav_menu": {},
   "number_sections": true,
   "sideBar": true,
   "skip_h1_title": false,
   "title_cell": "Table of Contents",
   "title_sidebar": "Contents",
   "toc_cell": false,
   "toc_position": {},
   "toc_section_display": true,
   "toc_window_display": false
  }
 },
 "nbformat": 4,
 "nbformat_minor": 2
}
