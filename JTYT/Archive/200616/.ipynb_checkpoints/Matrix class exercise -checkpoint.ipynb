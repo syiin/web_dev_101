{
 "cells": [
  {
   "cell_type": "markdown",
   "metadata": {},
   "source": [
    "# A Matrix\n",
    "Complete the Matrix class that holds a rectangular matrix of numbers represented as a multidimensional list (eg. `[[1,2],[3,4]]`). Note that although I use a 2 dimensional matrix as my example, these methods ideally should work an arbitrary number of dimensions - don't sweat it though, I'd suggest getting it to work in the 2D case first and then gradually building on that."
   ]
  },
  {
   "cell_type": "code",
   "execution_count": 1,
   "metadata": {},
   "outputs": [],
   "source": [
    "class Matrix():\n",
    "    def __init__(self, arr):\n",
    "        \"\"\"\n",
    "        Initialise the matrix object with a multidimensional list (or just a list if a vector)\\\n",
    "        arr: List\n",
    "        eg. \n",
    "        matrix = Matrix([[1,2],\n",
    "                         [3,4]])\n",
    "        \"\"\"\n",
    "        self.data = arr\n",
    "        pass\n",
    "    def flatten(self):\n",
    "        \"\"\"\n",
    "        Flatten the multidimensional array and return it as a list\n",
    "        returns: List\n",
    "        eg.\n",
    "        matrix.flatten() #[1,2,3,4]\n",
    "        \"\"\"\n",
    "        pass\n",
    "    def scalar_multiply(self, scalar):\n",
    "        \"\"\"\n",
    "        Multiply the entire matrix by a scalar and return it as a list\n",
    "        scalar: int\n",
    "        returns: List\n",
    "        eg.\n",
    "        matrix.scalar_multiply(2) #[[2,4], \n",
    "                                    [6,8]]\n",
    "        \"\"\"\n",
    "        pass\n",
    "    def location(self, row, column):\n",
    "        \"\"\"\n",
    "        Retrieve a value at a specific integer row and column in the matrix. \n",
    "        row: int\n",
    "        column: int\n",
    "        returns: int\n",
    "        eg.\n",
    "        matrix.location(0, 0) #returns 1 \n",
    "        matrix.location(0, 1) #returns 2\n",
    "        matrix.location(1, 0) #returns 3\n",
    "        matrix.location(1, 1) #returns 4\n",
    "        \"\"\"\n",
    "        pass\n",
    "    def max_along_axis(self, axis):\n",
    "        \"\"\"\n",
    "        Retrieve the max value along an axis\n",
    "        axis: int\n",
    "        returns: int\n",
    "        eg. \n",
    "        matrix.max_long_axis(0) #maximum in each row is [2, 4]\n",
    "        matrix.max_long_axis(1) #maximum in each column is [3, 4]\n",
    "        \"\"\"\n",
    "    def slice_axis(self, axis, idx):\n",
    "        \"\"\"\n",
    "        Return an entire axis \n",
    "        axis: int\n",
    "        idx: int\n",
    "        returns: List\n",
    "        eg. \n",
    "        #0th dimension, 0th slice \n",
    "        matrix.get_axis(0, 0) #[1,2]\n",
    "        #0th dimension, 1st slice \n",
    "        matrix.get_axis(0, 1) #[3,4]\n",
    "        #1st dimension, 0th slice \n",
    "        matrix.get_axis(1, 0) #[[1],\n",
    "                                [3]]\n",
    "        #1st dimension, 1st slice \n",
    "        matrix.get_axis(1, 1) #[[2],\n",
    "                                [4]]\n",
    "        \"\"\"\n",
    "        pass\n",
    "    def reduce_sum(self, axis):\n",
    "        \"\"\"\n",
    "        Sum up the values across a given axis and returns a list \n",
    "        axis: int\n",
    "        returns: List\n",
    "        eg.\n",
    "        matrix.reduce_sum(0) # sums up the values across the row [3, 7]\n",
    "        matrix.reduce_sum(1) # sum up the values across the column [4, 6]\n",
    "        \"\"\"\n",
    "        pass\n",
    "    def reduce_mean(self, axis):\n",
    "        \"\"\"\n",
    "        Calculate the mean across a given axis and returns a list\n",
    "        axis: int\n",
    "        returns: List\n",
    "        eg.\n",
    "        matrix.reduce_mean(0) # mean across rows [3/2, 7 /2] = [1.5, 3.5]\n",
    "        matrix.reduce_mean(1) # mean across the rows is [4/2, 6/2] = [2, 3]\n",
    "        \"\"\"\n",
    "        pass\n",
    "    "
   ]
  },
  {
   "cell_type": "code",
   "execution_count": 2,
   "metadata": {},
   "outputs": [],
   "source": [
    "class Matrix():\n",
    "    def __init__(self, array):\n",
    "        self.array=array\n",
    "    \n",
    "    def flatten(self):\n",
    "        output=[]\n",
    "        for row in self.array:\n",
    "            for item in row:\n",
    "               output.append(item)\n",
    "        return output\n",
    "\n",
    "    def scalar_operator(self,k,z):\n",
    "        output=[]\n",
    "        for row in self.array:\n",
    "            rowlist=[]\n",
    "            for item in row:\n",
    "                if z==\"*\":\n",
    "                   rowlist.append(item*k)\n",
    "                elif z==\"/\":  \n",
    "                   rowlist.append(item/k)\n",
    "                elif z==\"+\":\n",
    "                   rowlist.append(item+k)\n",
    "                elif z==\"-\":\n",
    "                   rowlist.append(item-k)\n",
    "                elif z==\"**\":\n",
    "                   rowlist.append(item**k)\n",
    "            output.append(rowlist)\n",
    "        return output \n",
    "    \n",
    "    def location(self,row,column):\n",
    "         columnitems=self.array[1-row]\n",
    "         return columnitems[1-column]\n",
    "    \n",
    "    def max_along_axis(self,x):\n",
    "        z=0\n",
    "        columndata=[[row[z] for row in self.array], [row[z+1] for row in self.array]]\n",
    "        maxrow=[]\n",
    "        maxcol=[]\n",
    "        if x ==\"row\":\n",
    "           for row in self.array:\n",
    "              maxrow.append(max(row)) \n",
    "           return maxrow\n",
    "        elif x ==\"column\":\n",
    "           for column in columndata:\n",
    "              maxcol.append(max(column)) \n",
    "           return maxcol\n",
    "    \n",
    "    def get_axis(self,axis,idx):\n",
    "        z=0\n",
    "        columndata=[[row[z] for row in self.array], [row[z+1] for row in self.array]]\n",
    "        if axis==0:\n",
    "            if idx==0: \n",
    "                return self.array[0]\n",
    "            elif idx==1:\n",
    "                return self.array[1]\n",
    "        if axis==1:\n",
    "            if idx==0:\n",
    "                return columndata[0]\n",
    "            elif idx==1:\n",
    "                return columndata[1]\n",
    "     \n",
    "    def reduce_axis_sum(self,x):\n",
    "        z=0\n",
    "        columndata=[[row[z] for row in self.array], [row[z+1] for row in self.array]]\n",
    "        if x == \"row\":\n",
    "            outputlist=[]\n",
    "            for row in self.array:\n",
    "                outputlist.append(sum(row))\n",
    "            return outputlist\n",
    "        elif x == \"column\":\n",
    "            outputlist=[]\n",
    "            for column in columndata:\n",
    "                outputlist.append(sum(column))\n",
    "            return outputlist\n",
    "  \n",
    "    def reduce_axis_avg(self,x):\n",
    "        z=0\n",
    "        columndata=[[row[z] for row in self.array], [row[z+1] for row in self.array]]\n",
    "        if x == \"row\":\n",
    "            outputlist=[]\n",
    "            for row in self.array:\n",
    "                outputlist.append(sum(row)/len(row))\n",
    "            return outputlist\n",
    "        elif x == \"column\":\n",
    "            outputlist=[]\n",
    "            for column in columndata:\n",
    "                outputlist.append(sum(column)/len(column))\n",
    "            return outputlist\n",
    "\n",
    "\n",
    "Matrix1=Matrix([[1,9],\n",
    "                [12,2]])"
   ]
  },
  {
   "cell_type": "code",
   "execution_count": 95,
   "metadata": {},
   "outputs": [],
   "source": [
    "arr = [[1,2], \n",
    "       [4,5]]"
   ]
  },
  {
   "cell_type": "code",
   "execution_count": 96,
   "metadata": {},
   "outputs": [],
   "source": [
    "dim = len(arr)"
   ]
  },
  {
   "cell_type": "code",
   "execution_count": 97,
   "metadata": {},
   "outputs": [],
   "source": []
  },
  {
   "cell_type": "code",
   "execution_count": 98,
   "metadata": {},
   "outputs": [
    {
     "data": {
      "text/plain": [
       "[[1, 2], [4, 5]]"
      ]
     },
     "execution_count": 98,
     "metadata": {},
     "output_type": "execute_result"
    }
   ],
   "source": [
    "arr"
   ]
  },
  {
   "cell_type": "code",
   "execution_count": 126,
   "metadata": {},
   "outputs": [
    {
     "data": {
      "text/plain": [
       "[1, 2, 4, 5]"
      ]
     },
     "execution_count": 126,
     "metadata": {},
     "output_type": "execute_result"
    }
   ],
   "source": [
    "tmp_arr"
   ]
  },
  {
   "cell_type": "code",
   "execution_count": 123,
   "metadata": {},
   "outputs": [
    {
     "data": {
      "text/plain": [
       "True"
      ]
     },
     "execution_count": 123,
     "metadata": {},
     "output_type": "execute_result"
    }
   ],
   "source": [
    "4 % dim == 0"
   ]
  },
  {
   "cell_type": "code",
   "execution_count": 129,
   "metadata": {},
   "outputs": [],
   "source": [
    "flat_array = [i for o in arr for i in o]\n",
    "outp_list = []\n",
    "col1 = []\n",
    "col2 = []\n",
    "for idx,item in enumerate(tmp_arr):\n",
    "    if (idx % dim) == 0:\n",
    "        col1.append(item)\n",
    "    else:\n",
    "        col2.append(item)\n",
    "outp_list = [col1, col2]"
   ]
  },
  {
   "cell_type": "code",
   "execution_count": 130,
   "metadata": {},
   "outputs": [
    {
     "data": {
      "text/plain": [
       "[[1, 4], [2, 5]]"
      ]
     },
     "execution_count": 130,
     "metadata": {},
     "output_type": "execute_result"
    }
   ],
   "source": [
    "outp_list"
   ]
  },
  {
   "cell_type": "code",
   "execution_count": 102,
   "metadata": {},
   "outputs": [
    {
     "data": {
      "text/plain": [
       "[1, 2, 4, 5]"
      ]
     },
     "execution_count": 102,
     "metadata": {},
     "output_type": "execute_result"
    }
   ],
   "source": [
    "new_col"
   ]
  },
  {
   "cell_type": "code",
   "execution_count": 103,
   "metadata": {},
   "outputs": [
    {
     "data": {
      "text/plain": [
       "[]"
      ]
     },
     "execution_count": 103,
     "metadata": {},
     "output_type": "execute_result"
    }
   ],
   "source": [
    "outp_list"
   ]
  },
  {
   "cell_type": "code",
   "execution_count": 3,
   "metadata": {},
   "outputs": [
    {
     "data": {
      "text/plain": [
       "[1, 9, 12, 2]"
      ]
     },
     "execution_count": 3,
     "metadata": {},
     "output_type": "execute_result"
    }
   ],
   "source": [
    "Matrix1.flatten()          "
   ]
  },
  {
   "cell_type": "code",
   "execution_count": 4,
   "metadata": {},
   "outputs": [
    {
     "data": {
      "text/plain": [
       "[[-4, 4], [7, -3]]"
      ]
     },
     "execution_count": 4,
     "metadata": {},
     "output_type": "execute_result"
    }
   ],
   "source": [
    "Matrix1.scalar_operator(5,\"-\")"
   ]
  },
  {
   "cell_type": "code",
   "execution_count": 5,
   "metadata": {},
   "outputs": [
    {
     "data": {
      "text/plain": [
       "[[8, 72], [96, 16]]"
      ]
     },
     "execution_count": 5,
     "metadata": {},
     "output_type": "execute_result"
    }
   ],
   "source": [
    "Matrix1.scalar_operator(8,\"*\")"
   ]
  },
  {
   "cell_type": "code",
   "execution_count": 7,
   "metadata": {},
   "outputs": [
    {
     "data": {
      "text/plain": [
       "12"
      ]
     },
     "execution_count": 7,
     "metadata": {},
     "output_type": "execute_result"
    }
   ],
   "source": [
    "Matrix1.location(0,1)"
   ]
  },
  {
   "cell_type": "code",
   "execution_count": 6,
   "metadata": {},
   "outputs": [
    {
     "data": {
      "text/plain": [
       "2"
      ]
     },
     "execution_count": 6,
     "metadata": {},
     "output_type": "execute_result"
    }
   ],
   "source": [
    "Matrix1.location(2,2)"
   ]
  },
  {
   "cell_type": "code",
   "execution_count": 61,
   "metadata": {},
   "outputs": [
    {
     "data": {
      "text/plain": [
       "[12, 9]"
      ]
     },
     "execution_count": 61,
     "metadata": {},
     "output_type": "execute_result"
    }
   ],
   "source": [
    "Matrix1.max_along_axis(\"column\")"
   ]
  },
  {
   "cell_type": "code",
   "execution_count": 62,
   "metadata": {},
   "outputs": [
    {
     "data": {
      "text/plain": [
       "[9, 12]"
      ]
     },
     "execution_count": 62,
     "metadata": {},
     "output_type": "execute_result"
    }
   ],
   "source": [
    "Matrix1.max_along_axis(\"row\")"
   ]
  },
  {
   "cell_type": "code",
   "execution_count": 63,
   "metadata": {},
   "outputs": [
    {
     "name": "stdout",
     "output_type": "stream",
     "text": [
      "[1, 9]\n",
      "[12, 2]\n",
      "[1, 12]\n",
      "[9, 2]\n"
     ]
    }
   ],
   "source": [
    "print(Matrix1.get_axis(0,0))\n",
    "print(Matrix1.get_axis(0,1))\n",
    "print(Matrix1.get_axis(1,0))\n",
    "print(Matrix1.get_axis(1,1))"
   ]
  },
  {
   "cell_type": "code",
   "execution_count": 64,
   "metadata": {},
   "outputs": [
    {
     "name": "stdout",
     "output_type": "stream",
     "text": [
      "[10, 14]\n",
      "[13, 11]\n"
     ]
    }
   ],
   "source": [
    "print(Matrix1.reduce_axis_sum(\"row\"))\n",
    "print(Matrix1.reduce_axis_sum(\"column\"))"
   ]
  },
  {
   "cell_type": "code",
   "execution_count": 65,
   "metadata": {},
   "outputs": [
    {
     "name": "stdout",
     "output_type": "stream",
     "text": [
      "[5.0, 7.0]\n",
      "[6.5, 5.5]\n"
     ]
    }
   ],
   "source": [
    "print(Matrix1.reduce_axis_avg(\"row\"))\n",
    "print(Matrix1.reduce_axis_avg(\"column\"))"
   ]
  }
 ],
 "metadata": {
  "kernelspec": {
   "display_name": "Python 3",
   "language": "python",
   "name": "python3"
  },
  "language_info": {
   "codemirror_mode": {
    "name": "ipython",
    "version": 3
   },
   "file_extension": ".py",
   "mimetype": "text/x-python",
   "name": "python",
   "nbconvert_exporter": "python",
   "pygments_lexer": "ipython3",
   "version": "3.6.9"
  },
  "latex_envs": {
   "LaTeX_envs_menu_present": true,
   "autoclose": false,
   "autocomplete": true,
   "bibliofile": "biblio.bib",
   "cite_by": "apalike",
   "current_citInitial": 1,
   "eqLabelWithNumbers": true,
   "eqNumInitial": 1,
   "hotkeys": {
    "equation": "Ctrl-E",
    "itemize": "Ctrl-I"
   },
   "labels_anchors": false,
   "latex_user_defs": false,
   "report_style_numbering": false,
   "user_envs_cfg": false
  },
  "toc": {
   "base_numbering": 1,
   "nav_menu": {},
   "number_sections": true,
   "sideBar": true,
   "skip_h1_title": false,
   "title_cell": "Table of Contents",
   "title_sidebar": "Contents",
   "toc_cell": false,
   "toc_position": {},
   "toc_section_display": true,
   "toc_window_display": false
  }
 },
 "nbformat": 4,
 "nbformat_minor": 2
}
