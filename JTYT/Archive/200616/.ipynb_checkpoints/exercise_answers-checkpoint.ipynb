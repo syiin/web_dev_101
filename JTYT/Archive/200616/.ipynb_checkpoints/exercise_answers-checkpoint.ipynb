{
 "cells": [
  {
   "cell_type": "markdown",
   "metadata": {},
   "source": [
    "1. Use numpy to test whether none of the elements of a given array is zero\n",
    "1. Use numpy to create an array with the values 1, 7, 13, 105\n",
    "1. Use numpy to create an array of 10 zeros,10 ones, 10 fives\n",
    "1. Use numpy to create a 3x3 identity matrix\n",
    "1. Use numpy to compute the inner product of two given vectors.\n",
    "1. Use numpy to convert a given array into a list and then convert it into a list again.\n",
    "1. Use numpy to get the minimum and maximum value of a given array along the second axis\n",
    "1. Use numpy to compute the mean, standard deviation, and variance of a given array along the second axis.\n",
    "1. Write a Python program to count number of occurrences of each value in a given array of non-negative integers (eg. like a histogram)\n",
    "1. Write a NumPy program to calculate cumulative product of the elements along a given axis, sum over rows for each of the 3 columns and product over columns for each of the 2 rows of a given 3x3 array."
   ]
  },
  {
   "cell_type": "code",
   "execution_count": 3,
   "metadata": {},
   "outputs": [],
   "source": [
    "import numpy as np"
   ]
  },
  {
   "cell_type": "code",
   "execution_count": 5,
   "metadata": {},
   "outputs": [
    {
     "name": "stdout",
     "output_type": "stream",
     "text": [
      "Original array:\n",
      "[1 2 3 4]\n",
      "Test if none of the elements of the said array is zero:\n",
      "True\n",
      "Original array:\n",
      "[0 1 2 3]\n",
      "Test if none of the elements of the said array is zero:\n",
      "False\n"
     ]
    }
   ],
   "source": [
    "#1. \n",
    "\n",
    "x = np.array([1, 2, 3, 4])\n",
    "print(\"Original array:\")\n",
    "print(x)\n",
    "print(\"Test if none of the elements of the said array is zero:\")\n",
    "print(np.all(x))\n",
    "x = np.array([0, 1, 2, 3])\n",
    "print(\"Original array:\")\n",
    "print(x)\n",
    "print(\"Test if none of the elements of the said array is zero:\")\n",
    "print(np.all(x))"
   ]
  },
  {
   "cell_type": "code",
   "execution_count": 7,
   "metadata": {},
   "outputs": [
    {
     "name": "stdout",
     "output_type": "stream",
     "text": [
      "Original array:\n",
      "[  1   7  13 105]\n"
     ]
    }
   ],
   "source": [
    "#2. \n",
    "\n",
    "X = np.array([1, 7, 13, 105])\n",
    "print(\"Original array:\")\n",
    "print(X)"
   ]
  },
  {
   "cell_type": "code",
   "execution_count": 8,
   "metadata": {},
   "outputs": [
    {
     "name": "stdout",
     "output_type": "stream",
     "text": [
      "An array of 10 zeros:\n",
      "[0. 0. 0. 0. 0. 0. 0. 0. 0. 0.]\n",
      "An array of 10 ones:\n",
      "[1. 1. 1. 1. 1. 1. 1. 1. 1. 1.]\n",
      "An array of 10 fives:\n",
      "[5. 5. 5. 5. 5. 5. 5. 5. 5. 5.]\n"
     ]
    }
   ],
   "source": [
    "#3.\n",
    "\n",
    "array=np.zeros(10)\n",
    "print(\"An array of 10 zeros:\")\n",
    "print(array)\n",
    "array=np.ones(10)\n",
    "print(\"An array of 10 ones:\")\n",
    "print(array)\n",
    "array=np.ones(10)*5\n",
    "print(\"An array of 10 fives:\")\n",
    "print(array)"
   ]
  },
  {
   "cell_type": "code",
   "execution_count": 10,
   "metadata": {},
   "outputs": [
    {
     "name": "stdout",
     "output_type": "stream",
     "text": [
      "3x3 matrix:\n",
      "[[1. 0. 0.]\n",
      " [0. 1. 0.]\n",
      " [0. 0. 1.]]\n"
     ]
    }
   ],
   "source": [
    "#4. \n",
    "\n",
    "array_2D=np.identity(3)\n",
    "print('3x3 matrix:')\n",
    "print(array_2D)"
   ]
  },
  {
   "cell_type": "code",
   "execution_count": 17,
   "metadata": {},
   "outputs": [
    {
     "name": "stdout",
     "output_type": "stream",
     "text": [
      "Original vectors:\n",
      "[4 5]\n",
      "[ 7 10]\n",
      "Inner product of said vectors:\n",
      "78\n"
     ]
    }
   ],
   "source": [
    "#5.\n",
    "\n",
    "x = np.array([4, 5])\n",
    "y = np.array([7, 10])\n",
    "print(\"Original vectors:\")\n",
    "print(x)\n",
    "print(y)\n",
    "print(\"Inner product of said vectors:\")\n",
    "print(np.dot(x, y))"
   ]
  },
  {
   "cell_type": "code",
   "execution_count": 18,
   "metadata": {},
   "outputs": [
    {
     "name": "stdout",
     "output_type": "stream",
     "text": [
      "True\n"
     ]
    }
   ],
   "source": [
    "#6. \n",
    "\n",
    "a = [[1, 2], [3, 4]]\n",
    "x = np.array(a)\n",
    "a2 = x.tolist()\n",
    "print(a == a2)"
   ]
  },
  {
   "cell_type": "code",
   "execution_count": 19,
   "metadata": {},
   "outputs": [
    {
     "name": "stdout",
     "output_type": "stream",
     "text": [
      "\n",
      "Original array:\n",
      "[[0 1]\n",
      " [2 3]]\n",
      "\n",
      "Maximum value along the second axis:\n",
      "[1 3]\n",
      "Minimum value along the second axis:\n",
      "[0 2]\n"
     ]
    }
   ],
   "source": [
    "#7. \n",
    "\n",
    "x = np.arange(4).reshape((2, 2))\n",
    "print(\"\\nOriginal array:\")\n",
    "print(x)\n",
    "print(\"\\nMaximum value along the second axis:\")\n",
    "print(np.amax(x, 1))\n",
    "print(\"Minimum value along the second axis:\")\n",
    "print(np.amin(x, 1))"
   ]
  },
  {
   "cell_type": "code",
   "execution_count": 20,
   "metadata": {},
   "outputs": [
    {
     "name": "stdout",
     "output_type": "stream",
     "text": [
      "\n",
      "Original array:\n",
      "[0 1 2 3 4 5]\n",
      "\n",
      "Mean:  2.5\n",
      "\n",
      "std:  1\n",
      "\n",
      "variance:  2.9166666666666665\n"
     ]
    }
   ],
   "source": [
    "#8. \n",
    "\n",
    "x = np.arange(6)\n",
    "print(\"\\nOriginal array:\")\n",
    "print(x)\n",
    "r1 = np.mean(x)\n",
    "r2 = np.average(x)\n",
    "assert np.allclose(r1, r2)\n",
    "print(\"\\nMean: \", r1)\n",
    "r1 = np.std(x)\n",
    "r2 = np.sqrt(np.mean((x - np.mean(x)) ** 2 ))\n",
    "assert np.allclose(r1, r2)\n",
    "print(\"\\nstd: \", 1)\n",
    "r1= np.var(x)\n",
    "r2 = np.mean((x - np.mean(x)) ** 2 )\n",
    "assert np.allclose(r1, r2)\n",
    "print(\"\\nvariance: \", r1)"
   ]
  },
  {
   "cell_type": "code",
   "execution_count": 21,
   "metadata": {},
   "outputs": [
    {
     "name": "stdout",
     "output_type": "stream",
     "text": [
      "Original array:\n",
      "[0, 1, 6, 1, 4, 1, 2, 2, 7]\n",
      "Number of occurrences of each value in array: \n",
      "[1 3 2 0 1 0 1 1]\n"
     ]
    }
   ],
   "source": [
    "#9.\n",
    "\n",
    "array1 = [0, 1, 6, 1, 4, 1, 2, 2, 7] \n",
    "print(\"Original array:\")\n",
    "print(array1)\n",
    "print(\"Number of occurrences of each value in array: \")\n",
    "print(np.bincount(array1))"
   ]
  },
  {
   "cell_type": "code",
   "execution_count": 22,
   "metadata": {},
   "outputs": [
    {
     "name": "stdout",
     "output_type": "stream",
     "text": [
      "Original array: \n",
      "[[1 2 3]\n",
      " [4 5 6]]\n",
      "Cumulative product  of the elements along a given axis:\n",
      "[  1   2   6  24 120 720]\n",
      "\n",
      "Product over rows for each of the 3 columns:\n",
      "[[ 1  2  3]\n",
      " [ 4 10 18]]\n",
      "\n",
      "Product  over columns for each of the 2 rows:\n",
      "[[  1   2   6]\n",
      " [  4  20 120]]\n"
     ]
    }
   ],
   "source": [
    "#10. \n",
    "\n",
    "x = np.array([[1,2,3], [4,5,6]])\n",
    "print(\"Original array: \")\n",
    "print(x)\n",
    "print(\"Cumulative product  of the elements along a given axis:\")\n",
    "r = np.cumprod(x)\n",
    "print(r)\n",
    "print(\"\\nProduct over rows for each of the 3 columns:\")\n",
    "r = np.cumprod(x,axis=0) \n",
    "print(r)\n",
    "print(\"\\nProduct  over columns for each of the 2 rows:\")\n",
    "r = np.cumprod(x,axis=1) \n",
    "print(r)"
   ]
  },
  {
   "cell_type": "code",
   "execution_count": null,
   "metadata": {},
   "outputs": [],
   "source": []
  }
 ],
 "metadata": {
  "kernelspec": {
   "display_name": "pydev",
   "language": "python",
   "name": "pydev"
  },
  "language_info": {
   "codemirror_mode": {
    "name": "ipython",
    "version": 3
   },
   "file_extension": ".py",
   "mimetype": "text/x-python",
   "name": "python",
   "nbconvert_exporter": "python",
   "pygments_lexer": "ipython3",
   "version": "3.7.4"
  },
  "latex_envs": {
   "LaTeX_envs_menu_present": true,
   "autoclose": false,
   "autocomplete": true,
   "bibliofile": "biblio.bib",
   "cite_by": "apalike",
   "current_citInitial": 1,
   "eqLabelWithNumbers": true,
   "eqNumInitial": 1,
   "hotkeys": {
    "equation": "Ctrl-E",
    "itemize": "Ctrl-I"
   },
   "labels_anchors": false,
   "latex_user_defs": false,
   "report_style_numbering": false,
   "user_envs_cfg": false
  },
  "toc": {
   "base_numbering": 1,
   "nav_menu": {},
   "number_sections": true,
   "sideBar": true,
   "skip_h1_title": false,
   "title_cell": "Table of Contents",
   "title_sidebar": "Contents",
   "toc_cell": false,
   "toc_position": {},
   "toc_section_display": true,
   "toc_window_display": false
  }
 },
 "nbformat": 4,
 "nbformat_minor": 2
}
