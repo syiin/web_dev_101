{
 "cells": [
  {
   "cell_type": "code",
   "execution_count": 118,
   "metadata": {},
   "outputs": [],
   "source": [
    "import pandas as pd\n",
    "import numpy as np\n",
    "from itertools import permutations "
   ]
  },
  {
   "cell_type": "markdown",
   "metadata": {},
   "source": [
    "# My Misc Setup"
   ]
  },
  {
   "cell_type": "code",
   "execution_count": 127,
   "metadata": {},
   "outputs": [],
   "source": [
    "perm1 = list(permutations([1, 2, 3])) \n",
    "perm2 = list(permutations([4, 5, 6])) \n",
    "perm3 = list(permutations([7, 8, 9])) \n",
    "\n",
    "perm = perm1 + perm2 + perm3\n",
    "\n",
    "def convert_to_str(x):\n",
    "    return str(x)\n",
    "perm = [list(o) for o in perm]\n",
    "perm = list(map(convert_to_str, perm))\n",
    "\n",
    "df = pd.DataFrame(perm, columns=[\"list_of_ids\"])"
   ]
  },
  {
   "cell_type": "markdown",
   "metadata": {},
   "source": [
    "# Exercises"
   ]
  },
  {
   "cell_type": "markdown",
   "metadata": {},
   "source": [
    "1. Given the dataframe here, convert the column of string representations of lists into integers. ie. notice that running `type(df.iloc[0]['list_of_ids'])` returns `str`. We want this to return `int` for the whole column - it should be the same for `type(df.iloc[1]['list_of_ids'])`, `type(df.iloc[2]['list_of_ids'])`...etc"
   ]
  },
  {
   "cell_type": "code",
   "execution_count": 120,
   "metadata": {},
   "outputs": [
    {
     "data": {
      "text/plain": [
       "str"
      ]
     },
     "execution_count": 120,
     "metadata": {},
     "output_type": "execute_result"
    }
   ],
   "source": [
    "type(df.iloc[0]['list_of_ids'])"
   ]
  },
  {
   "cell_type": "code",
   "execution_count": 128,
   "metadata": {},
   "outputs": [],
   "source": [
    "def convert_str_2_list(string):\n",
    "    return eval(string)\n",
    "\n",
    "df['list_of_ids'] = df['list_of_ids'].apply(convert_str_2_list)"
   ]
  },
  {
   "cell_type": "code",
   "execution_count": 129,
   "metadata": {},
   "outputs": [
    {
     "data": {
      "text/plain": [
       "int"
      ]
     },
     "execution_count": 129,
     "metadata": {},
     "output_type": "execute_result"
    }
   ],
   "source": [
    "type(df.iloc[0]['list_of_ids'][0])"
   ]
  },
  {
   "cell_type": "markdown",
   "metadata": {},
   "source": [
    "2. Now, sort the lists inside each cell in the column. For example, instead of:\n",
    "\n",
    "```\n",
    "0    [1, 2, 3]\n",
    "1    [1, 3, 2]\n",
    "2    [2, 1, 3]\n",
    "Name: list_of_ids, dtype: object\n",
    "```\n",
    "\n",
    "we want:\n",
    "```\n",
    "0    [1, 2, 3]\n",
    "1    [1, 2, 3]\n",
    "2    [1, 2, 3]\n",
    "Name: list_of_ids, dtype: object\n",
    "```"
   ]
  },
  {
   "cell_type": "markdown",
   "metadata": {},
   "source": [
    "3. Remove duplicate rows (ie. we want to remove all `list_of_ids` that are `[1, 2, 3]`. Instead of:\n",
    "```\n",
    " \tlist_of_ids\n",
    "0 \t[1, 2, 3]\n",
    "1 \t[1, 3, 2]\n",
    "2 \t[2, 1, 3]\n",
    "3 \t[2, 3, 1]\n",
    "4 \t[3, 1, 2]\n",
    "5 \t[3, 2, 1]\n",
    "6 \t[4, 5, 6]\n",
    "7 \t[4, 6, 5]\n",
    "8 \t[5, 4, 6]\n",
    "9 \t[5, 6, 4]\n",
    "10 \t[6, 4, 5]\n",
    "11 \t[6, 5, 4]\n",
    "12 \t[7, 8, 9]\n",
    "13 \t[7, 9, 8]\n",
    "14 \t[8, 7, 9]\n",
    "15 \t[8, 9, 7]\n",
    "16 \t[9, 7, 8]\n",
    "17 \t[9, 8, 7]\n",
    "```\n",
    "\n",
    "we want something like:\n",
    "```\n",
    "0     [1, 2, 3]\n",
    "6     [4, 5, 6]\n",
    "12    [7, 8, 9]\n",
    "Name: list_of_ids, dtype: object\n",
    "```"
   ]
  },
  {
   "cell_type": "markdown",
   "metadata": {},
   "source": [
    "4. Create columns called `random_values_A` and `random_values_B` which are filled with numbers drawn from the standard normal distribution\n",
    "```\n",
    "\tlist_of_ids \trandom_values_A \trandom_values_B\n",
    "    0 \t[1, 2, 3] \t-1.269272 \t          -0.339632\n",
    "    1 \t[1, 3, 2] \t-0.668267 \t          0.969351\n",
    "    2 \t[2, 1, 3] \t-0.806078 \t          0.509190\n",
    "    3 \t[2, 3, 1] \t0.544704 \t          0.592973\n",
    "    4 \t[3, 1, 2] \t-1.713542 \t          -0.775726\n",
    "```"
   ]
  },
  {
   "cell_type": "markdown",
   "metadata": {},
   "source": [
    "5. Add the column `random_values_A` to `random_values_B` and save it to a new column called `A_plus_B`. Example:\n",
    "```\n",
    " \tlist_of_ids \trandom_values_A \trandom_values_B \tA_plus_B\n",
    "        [1, 2, 3] \t0.459928 \t           1.386428 \t    1.846356\n",
    "        [1, 3, 2] \t1.371446 \t           -0.108918 \t    1.262528\n",
    "        [2, 1, 3] \t-0.886730 \t           -1.389015 \t    -2.275745\n",
    "        [2, 3, 1] \t-0.175531 \t           -1.006246 \t    -1.181778\n",
    "        [3, 1, 2] \t1.131861 \t           0.679168 \t    1.811029\n",
    "```"
   ]
  },
  {
   "cell_type": "markdown",
   "metadata": {},
   "source": [
    "6. Select and print all rows whose `random_values_A` that are negative\n",
    "```\n",
    "\tlist_of_ids \trandom_values_A \trandom_values_B\n",
    "    0 \t[1, 2, 3] \t  -1.269272     \t-0.339632\n",
    "    1 \t[1, 3, 2] \t  -0.668267     \t0.969351\n",
    "    2 \t[2, 1, 3] \t  -0.806078     \t0.509190\n",
    "    4 \t[3, 1, 2] \t  -1.713542     \t-0.775726\n",
    "    5 \t[3, 2, 1] \t  -1.291576     \t-1.542622\n",
    "    6 \t[4, 5, 6] \t  -0.996879     \t-0.427926\n",
    "    7 \t[4, 6, 5] \t  -0.234360     \t-1.131063\n",
    "    9 \t[5, 6, 4] \t  -0.641435     \t-1.770448\n",
    "    11 \t[6, 5, 4] \t  -0.007999     \t-0.622751\n",
    "    12 \t[7, 8, 9] \t  -0.375499     \t1.556395\n",
    "```"
   ]
  }
 ],
 "metadata": {
  "kernelspec": {
   "display_name": "pydev",
   "language": "python",
   "name": "pydev"
  },
  "language_info": {
   "codemirror_mode": {
    "name": "ipython",
    "version": 3
   },
   "file_extension": ".py",
   "mimetype": "text/x-python",
   "name": "python",
   "nbconvert_exporter": "python",
   "pygments_lexer": "ipython3",
   "version": "3.7.4"
  },
  "latex_envs": {
   "LaTeX_envs_menu_present": true,
   "autoclose": false,
   "autocomplete": true,
   "bibliofile": "biblio.bib",
   "cite_by": "apalike",
   "current_citInitial": 1,
   "eqLabelWithNumbers": true,
   "eqNumInitial": 1,
   "hotkeys": {
    "equation": "Ctrl-E",
    "itemize": "Ctrl-I"
   },
   "labels_anchors": false,
   "latex_user_defs": false,
   "report_style_numbering": false,
   "user_envs_cfg": false
  },
  "toc": {
   "base_numbering": 1,
   "nav_menu": {},
   "number_sections": true,
   "sideBar": true,
   "skip_h1_title": false,
   "title_cell": "Table of Contents",
   "title_sidebar": "Contents",
   "toc_cell": false,
   "toc_position": {},
   "toc_section_display": true,
   "toc_window_display": false
  }
 },
 "nbformat": 4,
 "nbformat_minor": 2
}
