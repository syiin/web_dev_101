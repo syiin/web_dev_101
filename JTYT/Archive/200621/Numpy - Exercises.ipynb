{
 "cells": [
  {
   "cell_type": "code",
   "execution_count": 2,
   "metadata": {},
   "outputs": [],
   "source": [
    "import numpy as np"
   ]
  },
  {
   "cell_type": "code",
   "execution_count": 3,
   "metadata": {},
   "outputs": [
    {
     "name": "stdout",
     "output_type": "stream",
     "text": [
      "Array does not contain 0\n"
     ]
    },
    {
     "data": {
      "text/plain": [
       "array([ True,  True,  True], dtype=bool)"
      ]
     },
     "execution_count": 3,
     "metadata": {},
     "output_type": "execute_result"
    }
   ],
   "source": [
    "##1. Use numpy to test whether none of the elements of a given array is zero\n",
    "\n",
    "data=np.array([[1,2,1],[4,5,6]])\n",
    "\n",
    "def testzero(data):\n",
    "    for row in data:\n",
    "        for item in row: \n",
    "            if item==0:\n",
    "                print(\"true\")\n",
    "            else: \n",
    "                print(\"false\")\n",
    "\n",
    "## not sure of the syntax\n",
    "if (data==0).any():\n",
    "    print(\"Array contains a 0\")\n",
    "else:\n",
    "    print (\"Array does not contain 0\")\n",
    "    \n",
    "data.any(0)  ## why doesn't this work ? "
   ]
  },
  {
   "cell_type": "code",
   "execution_count": null,
   "metadata": {},
   "outputs": [],
   "source": [
    "#this doesn't work because it is asking whether there are any Trues inside data along the 0th axis\n",
    "data.any(0)"
   ]
  },
  {
   "cell_type": "code",
   "execution_count": 68,
   "metadata": {},
   "outputs": [
    {
     "name": "stdout",
     "output_type": "stream",
     "text": [
      "[[7 7 7]\n",
      " [7 7 7]\n",
      " [7 7 7]]\n"
     ]
    }
   ],
   "source": [
    "##1. Use numpy to create an array with the values 1, 7, 13, 105\n",
    "\n",
    "data1=np.full((3,3),7)\n",
    "print(data1)"
   ]
  },
  {
   "cell_type": "code",
   "execution_count": 5,
   "metadata": {},
   "outputs": [
    {
     "name": "stdout",
     "output_type": "stream",
     "text": [
      "[[0 0 0 0 0 0 0 0 0 0]\n",
      " [1 1 1 1 1 1 1 1 1 1]\n",
      " [5 5 5 5 5 5 5 5 5 5]]\n"
     ]
    }
   ],
   "source": [
    "## 1. Use numpy to create an array of 10 zeros,10 ones, 10 fives \n",
    "\n",
    "data2=np.zeros((3,10),dtype=int)\n",
    "data2[1,:]=1\n",
    "data2[2,:]=5\n",
    "print(data2)\n"
   ]
  },
  {
   "cell_type": "code",
   "execution_count": 6,
   "metadata": {},
   "outputs": [
    {
     "name": "stdout",
     "output_type": "stream",
     "text": [
      "[[1 0 0 0 0]\n",
      " [0 1 0 0 0]\n",
      " [0 0 1 0 0]\n",
      " [0 0 0 1 0]\n",
      " [0 0 0 0 1]]\n"
     ]
    }
   ],
   "source": [
    "##1. Use numpy to create a nxn identity matrix\n",
    "\n",
    "z=5\n",
    "data4=np.zeros((z,z),dtype=int)\n",
    "n=0\n",
    "for i in data4:\n",
    "    data4[n,n]=1\n",
    "    n=n+1\n",
    "print(data4)"
   ]
  },
  {
   "cell_type": "code",
   "execution_count": 7,
   "metadata": {},
   "outputs": [
    {
     "data": {
      "text/plain": [
       "32"
      ]
     },
     "execution_count": 7,
     "metadata": {},
     "output_type": "execute_result"
    }
   ],
   "source": [
    "## 1. Use numpy to compute the inner product of two given vectors.\n",
    "\n",
    "x=np.array([1,2,3])\n",
    "y=np.array([4,5,6])\n",
    "\n",
    "np.matmul(x,y.T)\n"
   ]
  },
  {
   "cell_type": "code",
   "execution_count": 8,
   "metadata": {},
   "outputs": [
    {
     "name": "stdout",
     "output_type": "stream",
     "text": [
      "[1 2 3 4 5 6 7 8]\n",
      "[[1 2 3 4]\n",
      " [5 6 7 8]]\n"
     ]
    }
   ],
   "source": [
    "## 1. Use numpy to convert a given array into a list and then convert it into a list again.\n",
    "\n",
    "data5=np.array([[1,2,3,4],[5,6,7,8]])\n",
    "\n",
    "flatdata5=data5.flatten()\n",
    "print(flatdata5)\n",
    "\n",
    "reshapeddata5=np.reshape(flatdata5,(2,4))\n",
    "print(reshapeddata5)\n",
    "\n"
   ]
  },
  {
   "cell_type": "code",
   "execution_count": 24,
   "metadata": {},
   "outputs": [
    {
     "name": "stdout",
     "output_type": "stream",
     "text": [
      "[[1 2 3 4]\n",
      " [5 6 7 8]]\n",
      "[1 5]\n",
      "[4 8]\n"
     ]
    }
   ],
   "source": [
    "## 1. Use numpy to get the minimum and maximum value of a given array along the second axis\n",
    "\n",
    "data5=np.array([[1,2,3,4],[5,6,7,8]])\n",
    "\n",
    "print(data5)\n",
    "print(np.min(data5,axis=1))\n",
    "print(np.max(data5,axis=1))"
   ]
  },
  {
   "cell_type": "code",
   "execution_count": 10,
   "metadata": {},
   "outputs": [
    {
     "name": "stdout",
     "output_type": "stream",
     "text": [
      "[[1 2 3 4]\n",
      " [5 6 7 8]]\n",
      "[ 2.5  6.5]\n",
      "[ 1.11803399  1.11803399]\n",
      "[ 1.25  1.25]\n",
      "false\n"
     ]
    }
   ],
   "source": [
    "## 1. Use numpy to compute the mean, standard deviation, and variance of a given array along the second axis.\n",
    "\n",
    "data5=np.array([[1,2,3,4],[5,6,7,8]])\n",
    "\n",
    "print(data5)\n",
    "print(np.mean(data5,axis=1))\n",
    "dev=np.std(data5,axis=1)\n",
    "var=np.var(data5,axis=1)\n",
    "print(dev)\n",
    "print(var)\n",
    "\n",
    "if (var[0]-(dev[0]**2)) ==0:\n",
    "    print (\"true\")\n",
    "else:\n",
    "    print (\"false\")"
   ]
  },
  {
   "cell_type": "code",
   "execution_count": 57,
   "metadata": {},
   "outputs": [
    {
     "name": "stdout",
     "output_type": "stream",
     "text": [
      "4\n",
      "[3 1]\n"
     ]
    }
   ],
   "source": [
    "## 1. Write a Python program to count number of occurrences of each value in a given array of non-negative integers (eg. like a histogram)\n",
    "\n",
    "data6=np.array([[1,2,2,2],[5,2,8,8]])\n",
    "\n",
    "print(np.count_nonzero(data6==2))\n",
    "print(np.count_nonzero(data6==2,axis=1))\n"
   ]
  },
  {
   "cell_type": "code",
   "execution_count": 67,
   "metadata": {},
   "outputs": [
    {
     "name": "stdout",
     "output_type": "stream",
     "text": [
      "[[1 2 3]\n",
      " [4 5 6]\n",
      " [7 8 9]]\n",
      "[[  1   2   3]\n",
      " [  4  10  18]\n",
      " [ 28  80 162]]\n",
      "[12 15 18]\n"
     ]
    }
   ],
   "source": [
    "## 1. Write a NumPy program to calculate cumulative product of the elements along a given axis, \n",
    "## sum over rows for each of the 3 columns and \n",
    "## product over columns for each of the 2 rows of a given 3x3 array (??)\n",
    "\n",
    "array=np.arange(1,10).reshape(3,3)\n",
    "\n",
    "print(array)\n",
    "print(np.cumprod(array,axis=0))\n",
    "\n",
    "print(np.sum(array,axis=0))\n",
    "\n"
   ]
  }
 ],
 "metadata": {
  "kernelspec": {
   "display_name": "Python 3",
   "language": "python",
   "name": "python3"
  },
  "language_info": {
   "codemirror_mode": {
    "name": "ipython",
    "version": 3
   },
   "file_extension": ".py",
   "mimetype": "text/x-python",
   "name": "python",
   "nbconvert_exporter": "python",
   "pygments_lexer": "ipython3",
   "version": "3.6.9"
  },
  "latex_envs": {
   "LaTeX_envs_menu_present": true,
   "autoclose": false,
   "autocomplete": true,
   "bibliofile": "biblio.bib",
   "cite_by": "apalike",
   "current_citInitial": 1,
   "eqLabelWithNumbers": true,
   "eqNumInitial": 1,
   "hotkeys": {
    "equation": "Ctrl-E",
    "itemize": "Ctrl-I"
   },
   "labels_anchors": false,
   "latex_user_defs": false,
   "report_style_numbering": false,
   "user_envs_cfg": false
  },
  "toc": {
   "base_numbering": 1,
   "nav_menu": {},
   "number_sections": true,
   "sideBar": true,
   "skip_h1_title": false,
   "title_cell": "Table of Contents",
   "title_sidebar": "Contents",
   "toc_cell": false,
   "toc_position": {},
   "toc_section_display": true,
   "toc_window_display": false
  }
 },
 "nbformat": 4,
 "nbformat_minor": 4
}
