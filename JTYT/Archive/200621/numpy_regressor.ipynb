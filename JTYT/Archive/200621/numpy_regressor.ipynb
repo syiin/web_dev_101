{
 "cells": [
  {
   "cell_type": "code",
   "execution_count": 1,
   "metadata": {},
   "outputs": [],
   "source": [
    "import numpy as np\n",
    "import matplotlib.pyplot as plt\n",
    "\n",
    "plt.style.use('dark_background')"
   ]
  },
  {
   "cell_type": "markdown",
   "metadata": {},
   "source": [
    "# Formulation Of Objective"
   ]
  },
  {
   "cell_type": "markdown",
   "metadata": {},
   "source": [
    "### Linear regression:\n",
    "Given data set $\\mathcal{D} = (\\mathbf{x}^{(1)}, y^{(1)}), ..., (\\mathbf{x}^{(m)}, y^{(m)})$,\n",
    "we want to learn vector of coefficients ${\\Theta}$ so that:\n",
    "$$\\large\n",
    "y^{(i)} = \\mathbf{\\Theta}^T\\mathbf{x}^{(i)} + \\epsilon^{(i)}\n",
    "$$\n",
    "equivalently,\n",
    "$$\\large\n",
    "y^{(i)} = \\theta_0 + \\theta_1 x^{(i)}_1 + ... + \\theta_d x^{(i)}_d + \\epsilon^{(i)}\n",
    "$$\n"
   ]
  },
  {
   "cell_type": "markdown",
   "metadata": {},
   "source": [
    "* $\\mathbf{x}^{(i)} = (x^{(i)}_0,..., x^{(i)}_d)$ are the input feature vectors.\n",
    "* $\\Theta = (\\theta_0, ..., \\theta_d)$ is the vector of coefficients, also called the model parameters.\n",
    "* The error $\\epsilon^{(i)}$ are independent from each other and coming from the same distribution $\\mathcal{N}(0, \\sigma^2)$ (Gaussian with mean $0$)."
   ]
  },
  {
   "cell_type": "markdown",
   "metadata": {},
   "source": [
    "### Linear regression:\n",
    "$$y^{(i)} = \\mathbf{\\Theta}^T\\mathbf{x}^{(i)} + \\epsilon^{(i)} = \\theta_0 + \\theta_1 x^{(i)}_1 + ... + \\theta_d x^{(i)}_d + \\epsilon^{(i)}\n",
    "$$\n",
    "Goal: we want to minimize this\n",
    "$$\\text{Loss} = \\frac{1}{m} \\sum_{i=1}^m {(y^{(i)} - \\Theta^T\\mathbf{x}^{(i)} )^2}\n",
    "$$\n",
    "This is the _least-squares_ objective.\n",
    "\n",
    "**Question:** Why is this the right objective to minimize? Why not\n",
    "$$\\frac{1}{m} \\sum_{i=1}^m |y^{(i)} - \\Theta \\mathbf{x}^{(i)}| $$\n",
    "Or\n",
    "$$\\frac{1}{m} \\sum_{i=1}^m (y^{(i)} - \\Theta \\mathbf{x}^{(i)})^4 $$ ?\n"
   ]
  },
  {
   "cell_type": "markdown",
   "metadata": {},
   "source": [
    "### Lasso regression:\n",
    "Similar to basic linear regression, but with objective of minimizing:\n",
    "$$\\text{Loss} = \\frac{1}{m}\\left(\\sum_{i=1}^m {(y^{(i)} - \\Theta^T\\mathbf{x}^{(i)} )^2} \\right) + \\left(\\alpha  \\sum_{i=0}^d \\theta_d\\right)\n",
    "$$\n",
    "\n",
    "- $\\left(\\alpha  \\sum_{i=0}^d \\theta_d \\right)$ is the regularization term.\n",
    "\n",
    "- **Question:** What's a better explanation for the regularization term:   $\\left(\\alpha  \\sum_{i=0}^d \\theta_d\\right)$,  besides the fact that it works well?\n",
    "\n"
   ]
  },
  {
   "cell_type": "markdown",
   "metadata": {},
   "source": [
    "## Probability Theory\n",
    "\n",
    "### Preview of how we'll use probability:\n",
    "\n",
    "$\\Theta = (\\theta_0,...,\\theta_d)$\n",
    "\n",
    "Imagine $\\Theta$ lives in the space of all possible parameters. We will want to find the \"most likely\" $\\Theta$ given the data $\\mathcal{D}$. That is, find:\n",
    "$$\\DeclareMathOperator*{\\argmax}{argmax} $$\n",
    "$$\\DeclareMathOperator*{\\argmin}{argmin} $$\n",
    " $$\\argmax_\\Theta  p(\\Theta|\\mathcal{D}). $$"
   ]
  },
  {
   "cell_type": "markdown",
   "metadata": {},
   "source": [
    "### Probability: notations\n",
    "\n",
    "* If $A$ is an _event_, $P(A)$ denotes the _probability of $A$_. \n",
    "* $P(A)$ is a number between 0 and 1.\n",
    "* If $A, B$ are 2 events, the probability of \"$A$ and $B$\" is denoted by $P(A, B)$ (also sometimes written as $P(A\\cap B)$)."
   ]
  },
  {
   "cell_type": "markdown",
   "metadata": {},
   "source": [
    "### Probability: conditional\n",
    "* Given _events_ $A, B$, we denote $P(A|B)$ the conditional probablity of $A$ given $B$, and it is defined as:\n",
    "$$\n",
    "P(A|B) := \\frac{P(A,B)}{P(B)}\n",
    "$$\n",
    "\n",
    "**Example**: Given a population of people, each person has `age` and `height` attributes, let $A$=\"`age < 10`\" and $B$=\"`height > 1.6m`\".\n",
    "\n",
    "Let $T$ be the total number of people.\n",
    "$$\n",
    "P(A|B) = \\frac{P(A,B)}{P(B)} = \\frac{\\text{#( age<10 and height>1.6 )} / T}{\\text{#( height>1.6 )} / T}\n",
    "$$\n",
    "$$\n",
    "P(A|B) = \\frac{\\text{#( age<10 and height>1.6 )} }{\\text{#( height>1.6 )} }\n",
    "$$\n",
    "\n",
    "You can think of $P(A|B)$ as probability of $A$ in the _restricted population of just $B$_."
   ]
  },
  {
   "cell_type": "markdown",
   "metadata": {},
   "source": [
    "### Bayes' rule: (on events)\n",
    "Given the definition $P(A|B) := \\frac{P(A,B)}{P(B)}$ for any 2 events $A, B$, it follows that:\n",
    "$$\n",
    "P(A|B) = \\frac{P(B|A) . P(A)}{P(B)}\n",
    "$$"
   ]
  },
  {
   "cell_type": "markdown",
   "metadata": {},
   "source": [
    "$P(A|B) P(B) = P(A, B) = P(B|A)P(A)$\n",
    "So $$\n",
    "P(A|B) = \\frac{P(B|A) P(A)}{P(B)}\n",
    "$$"
   ]
  },
  {
   "cell_type": "markdown",
   "metadata": {},
   "source": [
    "### Continuous random variable\n",
    "If $x$ is a continuous random variable, $p(x)$ denotes the density function of $x$.\n",
    "+ For example: The bell curve - density function for a Gaussian/Normal random variable\n",
    "+ **Note**: Writing $p(x)$ is slight abuse of mathematical notation, since $x$ here means both the random variable and the possible $\\mathbb{R}$ values of this variable. (The proper way is to name the random variable $X$ and its density $p_X(x)$, but we will go with $p(x)$ for short. Just remember that $p(x)$ and $p(y)$ are different density functions even though they are both named $p$)"
   ]
  },
  {
   "cell_type": "markdown",
   "metadata": {},
   "source": [
    "**Question**: what properties must a probability density function have?"
   ]
  },
  {
   "cell_type": "markdown",
   "metadata": {},
   "source": [
    "$$\\int_{-\\infty}^\\infty p(x)dx = 1$$\n",
    "* $x$ in the above equation is simply the possible real values of the random variable whose density function is $p$."
   ]
  },
  {
   "cell_type": "markdown",
   "metadata": {},
   "source": [
    "If $\\mathbf{x}=(x_1, x_2)$ is 2-dimensional\n",
    "$$\\int p(\\mathbf{x}) d\\mathbf{x} = \\iint p(x_1, x_2) dx_1 dx_2 = 1.$$\n",
    "This generalizes to $\\mathbf{x}$ of any dimension."
   ]
  },
  {
   "cell_type": "markdown",
   "metadata": {},
   "source": [
    "### Joint and marginals\n",
    "Let $x, y$ be 2 continuous real valued random variables. (For example `(age, height)` of members of a population.)\n",
    "* $p(x,y)$ is called the joint probability distribution of $x, y$.\n",
    "* $p(x)$ and $p(y)$ are the marginal distributions. We have\n",
    "$$p(x) = \\int_{-\\infty}^\\infty p(x,y) dy$$\n",
    "and \n",
    "$$p(y) = \\int_{-\\infty}^\\infty p(x,y) dx$$\n"
   ]
  },
  {
   "cell_type": "markdown",
   "metadata": {},
   "source": [
    "### Bayes' rule for densities:\n",
    "$$\n",
    "p(x|y) = \\frac{p(y|x)p(x)}{p(y)} \n",
    "$$\n",
    "* The denominator $p(y)$ is constant as $x$ varies. So we can think of it as a normalizing constant. Thus $p(x|y)$ is proportional to $p(y|x)p(x)$ as functions of $x$. (Think of $y$ as fixed).\n",
    "* We write $p(x|y) \\propto p(y|x)p(x)$ to indicate that these functions are proportional."
   ]
  },
  {
   "cell_type": "markdown",
   "metadata": {},
   "source": [
    "### Being bayesian:\n",
    "The Bayes' rule from previous slide extend to higher dimensions - from $x,y$ to vectors $\\mathbf{x}, \\mathbf{y}$\n",
    "\n",
    "We can apply the general Bayes' rule for: $\\Theta$ the vector of model parameters, and $\\mathcal{D}$ the vector of observed data points:\n",
    "$$\n",
    "p(\\Theta|\\mathcal{D}) = \\frac{p(\\mathcal{D}|\\Theta)p(\\Theta)}{p(\\mathcal{D})} \n",
    "$$\n",
    "Each term has a meaning:\n",
    "- $p(\\Theta|\\mathcal{D})$ (the posterior): our belief as to which parameters are likely after observing data\n",
    "- $p(\\Theta)$ (the prior): our belief as to which parameters are likely before observing data\n",
    "- $p(\\mathcal{D}|\\Theta)$ (the likelihood): how likely to have observed $\\mathcal{D}$ given model $\\Theta$\n",
    "- $p(\\mathcal{D})$: the normalizing constant.\n"
   ]
  },
  {
   "cell_type": "markdown",
   "metadata": {},
   "source": [
    "$$\n",
    "p(\\Theta|\\mathcal{D}) \\propto p(\\mathcal{D}|\\Theta)p(\\Theta)\n",
    "$$\n",
    "### Goal:\n",
    "\n",
    "- Find the $\\Theta$ that maximizes $p(\\Theta|\\mathcal{D})$. (That is, find $\\argmax_\\Theta p(\\Theta|\\mathcal{D})$.) This is called the maximum a posteriori (MAP) estimate. By Bayes' rule, this is equivalent to maximizing ${p(\\mathcal{D}|\\Theta)p(\\Theta)}$.\n"
   ]
  },
  {
   "cell_type": "markdown",
   "metadata": {},
   "source": [
    "- If we assume a uniform prior: $p(\\Theta)$ is a constant, then the above is equivalent to only maximizing the likelihood: $p(\\mathcal{D}|\\Theta)$. This is called the maximum likelihood estimate (MLE).\n",
    "\n",
    "**Note**: MLE is a special case of MAP when we assume uniform prior."
   ]
  },
  {
   "cell_type": "markdown",
   "metadata": {},
   "source": [
    "### Back to linear regression:\n",
    "Recall the hypothesis for linear regression:\n",
    "$$\n",
    "y^{(i)} = \\Theta^T \\mathbf{x}^{(i)} + \\epsilon^{(i)}\n",
    "$$\n",
    "where $\\epsilon^{(i)} \\sim \\mathcal{N}(0, \\sigma^2)$.\n",
    "\n",
    "That's equivalent to $y^{(i)} \\sim \\mathcal{N}(\\Theta^T \\mathbf{x}^{(i)}, \\sigma^2)$."
   ]
  },
  {
   "cell_type": "markdown",
   "metadata": {},
   "source": [
    "So,\n",
    "$$\n",
    "p(y^{(i)}|\\Theta, \\mathbf{x}^{(1)},..., \\mathbf{x}^{(m)}) = p(y^{(i)}|\\Theta, \\mathbf{x}^{(i)}) $$\n",
    "\n",
    "$$\n",
    "= \\frac{1}{\\sqrt{2\\pi\\sigma^2}}\\exp\\left(-\\frac{(y^{(i)} - \\Theta^T\\mathbf{x}^{(i)})^2}{2\\sigma^2}\\right).\n",
    "$$"
   ]
  },
  {
   "cell_type": "markdown",
   "metadata": {},
   "source": [
    "The first equality is because $y^{(i)}$ only depends on $\\mathbf{x}^{(i)}$."
   ]
  },
  {
   "cell_type": "markdown",
   "metadata": {},
   "source": [
    "Expanding \"data\": $\\mathcal{D} = \\mathbf{x}^{(1)}, y^{(1)}, ... \\mathbf{x}^{(m)}, y^{(m)} $, let $\\mathbf{X} = \\{\\mathbf{x}^{(i)}\\}_{i=1}^m$ and $\\mathbf{Y} = \\{y^{(i)}\\}_{i=1}^m$.\n",
    "\n",
    "By Bayes' rule, with $\\mathbf{X}$ always observed in all densities:\n",
    "$$\n",
    "p(\\Theta | \\mathbf{Y}, \\mathbf{X}) \\propto p(\\mathbf{Y}|\\Theta, \\mathbf{X}) p(\\Theta | \\mathbf{X})\n",
    "$$\n"
   ]
  },
  {
   "cell_type": "markdown",
   "metadata": {},
   "source": [
    "We assume a uniform prior belief about $\\Theta$, i.e. $p(\\Theta | \\mathbf{X})$ can be treated as a constant. So finding the most likely $\\Theta$ given data is equivalent to finding a Maximum Likelihood Estimate (MLE):\n",
    "$$\n",
    "\\argmax_\\Theta p(\\Theta | \\mathbf{Y}, \\mathbf{X})  = \\argmax_\\Theta  p(\\mathbf{Y}| \\Theta, \\mathbf{X}) \n",
    "$$\n",
    "$$\n",
    "= \\argmax_\\Theta p(y^{(1)},...,y^{(m)}| \\Theta, \\mathbf{X}) \n",
    "$$\n",
    "$$\n",
    "= \\argmax_\\Theta \\prod_{i=1}^m p(y^{(i)}| \\Theta, \\mathbf{X}) \n",
    "$$"
   ]
  },
  {
   "cell_type": "markdown",
   "metadata": {},
   "source": [
    "$$\n",
    "= \\argmax_\\Theta \\prod_{i=1}^m p(y^{(i)}| \\Theta, \\mathbf{X}) \n",
    "$$"
   ]
  },
  {
   "cell_type": "markdown",
   "metadata": {},
   "source": [
    "$$\n",
    "= \\argmax_\\Theta \\log\\left( \\prod_{i=1}^m p(y^{(i)}| \\Theta, \\mathbf{X}) \\right)\n",
    "$$"
   ]
  },
  {
   "cell_type": "markdown",
   "metadata": {},
   "source": [
    "$$\n",
    "= \\argmax_\\Theta  \\sum_{i=1}^m \\log p(y^{(i)}| \\Theta, \\mathbf{X})\n",
    "$$"
   ]
  },
  {
   "cell_type": "markdown",
   "metadata": {},
   "source": [
    "$$\n",
    "= \\argmin_\\Theta   \\sum_{i=1}^m - \\log p(y^{(i)}| \\Theta, \\mathbf{X})\n",
    "$$"
   ]
  },
  {
   "cell_type": "markdown",
   "metadata": {},
   "source": [
    "$$\n",
    "= \\argmin_\\Theta   \\sum_{i=1}^m - \\log p(y^{(i)}| \\Theta, \\mathbf{X})\n",
    "$$\n",
    "\n",
    "$$= \\argmin_\\Theta  \\sum_{i=1}^{m} - \\log\\left(\\frac{1}{\\sqrt{2\\pi\\sigma^2}}\\exp\\left(-\\frac{(y^{(i)} - \\Theta^T\\mathbf{x}^{(i)})^2}{2\\sigma^2}\\right)\\right)$$\n",
    "\n",
    "$$= \\argmin_\\Theta  \\sum_{i=1}^m - \\log\\left(\\frac{1}{\\sqrt{2\\pi\\sigma^2}}\\right) + \\sum_{i=1}^m\\frac{(y^{(i)} -\\Theta^T\\mathbf{x}^{(i)})^2}{2\\sigma^2}$$\n",
    "\n",
    "$$ = \\argmin_\\Theta \\sum_{i=1}^m(y^{(i)} -\\Theta^T\\mathbf{x}^{(i)})^2$$"
   ]
  },
  {
   "cell_type": "markdown",
   "metadata": {},
   "source": [
    "### Conclusion:\n",
    "$$\\text{minimizing } \\frac{1}{m}\\sum_{i=1}^m {(y^{(i)} - \\Theta^T\\mathbf{x}^{(i)} )^2}\n",
    "\\iff \\text{maximizing } p(\\Theta|\\mathcal{D})\n",
    "$$\n"
   ]
  },
  {
   "cell_type": "markdown",
   "metadata": {},
   "source": [
    "# Generate Synthetic Data"
   ]
  },
  {
   "cell_type": "code",
   "execution_count": 2,
   "metadata": {},
   "outputs": [],
   "source": [
    "X = np.expand_dims(np.arange(1, 101, 1), axis=0).T\n",
    "eps = np.random.normal(size=(100, 1)) * 6\n",
    "m = np.array([[3]])\n",
    "\n",
    "y = X @ m + eps"
   ]
  },
  {
   "cell_type": "code",
   "execution_count": 3,
   "metadata": {},
   "outputs": [
    {
     "data": {
      "text/plain": [
       "(100, 1)"
      ]
     },
     "execution_count": 3,
     "metadata": {},
     "output_type": "execute_result"
    }
   ],
   "source": [
    "X.shape"
   ]
  },
  {
   "cell_type": "code",
   "execution_count": 3,
   "metadata": {},
   "outputs": [
    {
     "data": {
      "text/plain": [
       "(100, 1)"
      ]
     },
     "execution_count": 3,
     "metadata": {},
     "output_type": "execute_result"
    }
   ],
   "source": [
    "(X @ m).shape"
   ]
  },
  {
   "cell_type": "code",
   "execution_count": 4,
   "metadata": {},
   "outputs": [
    {
     "data": {
      "text/plain": [
       "((100, 1), (100, 1), (100, 1))"
      ]
     },
     "execution_count": 4,
     "metadata": {},
     "output_type": "execute_result"
    }
   ],
   "source": [
    "X.shape, eps.shape, y.shape"
   ]
  },
  {
   "cell_type": "code",
   "execution_count": 5,
   "metadata": {},
   "outputs": [
    {
     "data": {
      "text/plain": [
       "[<matplotlib.lines.Line2D at 0x7fefc3ac3890>]"
      ]
     },
     "execution_count": 5,
     "metadata": {},
     "output_type": "execute_result"
    },
    {
     "data": {
      "image/png": "[encoded data removed]",
      "text/plain": [
       "<Figure size 432x288 with 1 Axes>"
      ]
     },
     "metadata": {
      "needs_background": "dark"
     },
     "output_type": "display_data"
    }
   ],
   "source": [
    "plt.plot(np.squeeze(X), np.squeeze(y))"
   ]
  },
  {
   "cell_type": "markdown",
   "metadata": {},
   "source": [
    "# One Step"
   ]
  },
  {
   "cell_type": "code",
   "execution_count": 6,
   "metadata": {},
   "outputs": [],
   "source": [
    "weights = np.array([[1]])\n",
    "y_hat = X @ weights"
   ]
  },
  {
   "cell_type": "code",
   "execution_count": 7,
   "metadata": {},
   "outputs": [
    {
     "data": {
      "text/plain": [
       "[<matplotlib.lines.Line2D at 0x7fefc3a41a90>]"
      ]
     },
     "execution_count": 7,
     "metadata": {},
     "output_type": "execute_result"
    },
    {
     "data": {
      "image/png": "[encoded data removed]",
      "text/plain": [
       "<Figure size 432x288 with 1 Axes>"
      ]
     },
     "metadata": {
      "needs_background": "dark"
     },
     "output_type": "display_data"
    }
   ],
   "source": [
    "plt.plot(np.squeeze(X), np.squeeze(y))\n",
    "plt.plot(np.squeeze(X), np.squeeze(y_hat))"
   ]
  },
  {
   "cell_type": "code",
   "execution_count": 8,
   "metadata": {},
   "outputs": [],
   "source": [
    "def mean_squared_error(y_true, y_pred):\n",
    "    return np.mean((y_pred - y_true) ** 2) * 0.5"
   ]
  },
  {
   "cell_type": "code",
   "execution_count": 9,
   "metadata": {},
   "outputs": [
    {
     "data": {
      "text/plain": [
       "6845.5700209948045"
      ]
     },
     "execution_count": 9,
     "metadata": {},
     "output_type": "execute_result"
    }
   ],
   "source": [
    "error = mean_squared_error(y, y_hat); error"
   ]
  },
  {
   "cell_type": "code",
   "execution_count": 10,
   "metadata": {},
   "outputs": [],
   "source": [
    "def mse_gradient(y_true, y_pred, X, alpha):\n",
    "    return (alpha / len(y_true)) * (X.T @ (y_pred - y_true))"
   ]
  },
  {
   "cell_type": "code",
   "execution_count": 11,
   "metadata": {},
   "outputs": [
    {
     "data": {
      "text/plain": [
       "(1, 1)"
      ]
     },
     "execution_count": 11,
     "metadata": {},
     "output_type": "execute_result"
    }
   ],
   "source": [
    "gradient = mse_gradient(y, y_hat, X, 3e-4); gradient.shape"
   ]
  },
  {
   "cell_type": "code",
   "execution_count": 12,
   "metadata": {},
   "outputs": [
    {
     "data": {
      "text/plain": [
       "array([[3.03882851]])"
      ]
     },
     "execution_count": 12,
     "metadata": {},
     "output_type": "execute_result"
    }
   ],
   "source": [
    "weights = weights - gradient; weights"
   ]
  },
  {
   "cell_type": "code",
   "execution_count": 13,
   "metadata": {},
   "outputs": [],
   "source": [
    "y_hat = X * weights \n",
    "plt.plot(np.squeeze(X), np.squeeze(y))\n",
    "plt.plot(np.squeeze(X), np.squeeze(y_hat))"
   ]
  },
  {
   "cell_type": "code",
   "execution_count": 14,
   "metadata": {},
   "outputs": [
    {
     "data": {
      "text/plain": [
       "[<matplotlib.lines.Line2D at 0x7feff40e41d0>]"
      ]
     },
     "execution_count": 14,
     "metadata": {},
     "output_type": "execute_result"
    },
    {
     "data": {
      "image/png": "[encoded data removed]",
      "text/plain": [
       "<Figure size 432x288 with 1 Axes>"
      ]
     },
     "metadata": {
      "needs_background": "dark"
     },
     "output_type": "display_data"
    }
   ],
   "source": [
    "plt.plot(np.squeeze(X), np.squeeze(y))\n",
    "plt.plot(np.squeeze(X), np.squeeze(y_hat))"
   ]
  },
  {
   "cell_type": "markdown",
   "metadata": {
    "heading_collapsed": true
   },
   "source": [
    "# The Class"
   ]
  },
  {
   "cell_type": "code",
   "execution_count": 15,
   "metadata": {
    "hidden": true
   },
   "outputs": [],
   "source": [
    "class LinearRegressor():\n",
    "    def __init__(self):\n",
    "        self.weights = np.array([[1]])\n",
    "        self.history = {}\n",
    "    def predict(self, X):\n",
    "        y_hat = X @ self.weights\n",
    "        return y_hat\n",
    "    def mean_squared_error(self, y_true, y_pred):\n",
    "        return np.mean((y_pred - y_true) ** 2) * 0.5\n",
    "    def mse_gradient(self, y_true, y_pred, X, alpha):\n",
    "        return (alpha / len(y_true)) * (X.T @ (y_pred - y_true))\n",
    "    def fit(self, X, y, lr = 1e-5, steps = 10):\n",
    "        for step in range(steps):\n",
    "            y_hat = self.predict(X)\n",
    "            error = self.mean_squared_error(y, y_hat)\n",
    "            gradient = self.mse_gradient(y, y_hat, X, lr)\n",
    "            self.weights = self.weights - gradient\n",
    "            self.history[step] = {\"gradient\": np.squeeze(gradient), \"error\": error}"
   ]
  },
  {
   "cell_type": "code",
   "execution_count": 16,
   "metadata": {
    "hidden": true
   },
   "outputs": [],
   "source": [
    "reg = LinearRegressor()"
   ]
  },
  {
   "cell_type": "code",
   "execution_count": 17,
   "metadata": {
    "hidden": true
   },
   "outputs": [],
   "source": [
    "y_hat = reg.predict(X)"
   ]
  },
  {
   "cell_type": "code",
   "execution_count": 18,
   "metadata": {
    "hidden": true
   },
   "outputs": [
    {
     "data": {
      "text/plain": [
       "[<matplotlib.lines.Line2D at 0x7feff40f8810>]"
      ]
     },
     "execution_count": 18,
     "metadata": {},
     "output_type": "execute_result"
    },
    {
     "data": {
      "image/png": "[encoded data removed]",
      "text/plain": [
       "<Figure size 432x288 with 1 Axes>"
      ]
     },
     "metadata": {
      "needs_background": "dark"
     },
     "output_type": "display_data"
    }
   ],
   "source": [
    "plt.plot(np.squeeze(X), np.squeeze(y))\n",
    "plt.plot(np.squeeze(X), np.squeeze(y_hat))"
   ]
  },
  {
   "cell_type": "code",
   "execution_count": 19,
   "metadata": {
    "hidden": true
   },
   "outputs": [],
   "source": [
    "reg.fit(X, y, steps=100)"
   ]
  },
  {
   "cell_type": "code",
   "execution_count": 20,
   "metadata": {
    "hidden": true
   },
   "outputs": [],
   "source": [
    "timesteps = list(reg.history.keys())\n",
    "gradients = [timestep['gradient'] for timestep in reg.history.values()]\n",
    "errors = [timestep['error'] for timestep in reg.history.values()]"
   ]
  },
  {
   "cell_type": "code",
   "execution_count": 21,
   "metadata": {
    "hidden": true
   },
   "outputs": [],
   "source": [
    "y_hat = reg.predict(X)"
   ]
  },
  {
   "cell_type": "code",
   "execution_count": 22,
   "metadata": {
    "hidden": true
   },
   "outputs": [
    {
     "data": {
      "text/plain": [
       "[<matplotlib.lines.Line2D at 0x7fefc3725310>]"
      ]
     },
     "execution_count": 22,
     "metadata": {},
     "output_type": "execute_result"
    },
    {
     "data": {
      "image/png": "[encoded data removed]",
      "text/plain": [
       "<Figure size 432x288 with 1 Axes>"
      ]
     },
     "metadata": {
      "needs_background": "dark"
     },
     "output_type": "display_data"
    }
   ],
   "source": [
    "plt.plot(errors, timesteps)"
   ]
  },
  {
   "cell_type": "code",
   "execution_count": 23,
   "metadata": {
    "hidden": true
   },
   "outputs": [
    {
     "data": {
      "text/plain": [
       "[<matplotlib.lines.Line2D at 0x7fefc3696c90>]"
      ]
     },
     "execution_count": 23,
     "metadata": {},
     "output_type": "execute_result"
    },
    {
     "data": {
      "image/png": "[encoded data removed]",
      "text/plain": [
       "<Figure size 432x288 with 1 Axes>"
      ]
     },
     "metadata": {
      "needs_background": "dark"
     },
     "output_type": "display_data"
    }
   ],
   "source": [
    "plt.plot(np.squeeze(gradients), np.squeeze(timesteps))"
   ]
  },
  {
   "cell_type": "code",
   "execution_count": 24,
   "metadata": {
    "hidden": true
   },
   "outputs": [
    {
     "data": {
      "text/plain": [
       "array(-0.06796095)"
      ]
     },
     "execution_count": 24,
     "metadata": {},
     "output_type": "execute_result"
    }
   ],
   "source": [
    "gradients[0]"
   ]
  },
  {
   "cell_type": "code",
   "execution_count": 25,
   "metadata": {
    "hidden": true
   },
   "outputs": [
    {
     "data": {
      "text/plain": [
       "[<matplotlib.lines.Line2D at 0x7fefc364c890>]"
      ]
     },
     "execution_count": 25,
     "metadata": {},
     "output_type": "execute_result"
    },
    {
     "data": {
      "image/png": "[encoded data removed]",
      "text/plain": [
       "<Figure size 432x288 with 1 Axes>"
      ]
     },
     "metadata": {
      "needs_background": "dark"
     },
     "output_type": "display_data"
    }
   ],
   "source": [
    "plt.plot(np.squeeze(X), np.squeeze(y))\n",
    "plt.plot(np.squeeze(X), np.squeeze(y_hat))"
   ]
  },
  {
   "cell_type": "markdown",
   "metadata": {
    "heading_collapsed": true
   },
   "source": [
    "# Multivariate Linear Regression"
   ]
  },
  {
   "cell_type": "code",
   "execution_count": 26,
   "metadata": {
    "hidden": true
   },
   "outputs": [],
   "source": [
    "n_features = 3\n",
    "n_rows = 100\n",
    "\n",
    "X = np.random.normal(size=(n_rows, n_features))\n",
    "eps = np.random.normal(size=(1), scale=0.001)\n",
    "m = np.ones((n_features, 1)) * 3\n",
    "\n",
    "y = X @ m + eps"
   ]
  },
  {
   "cell_type": "code",
   "execution_count": 27,
   "metadata": {
    "hidden": true
   },
   "outputs": [
    {
     "data": {
      "text/plain": [
       "(100, 1)"
      ]
     },
     "execution_count": 27,
     "metadata": {},
     "output_type": "execute_result"
    }
   ],
   "source": [
    "(X @ m).shape"
   ]
  },
  {
   "cell_type": "code",
   "execution_count": 28,
   "metadata": {
    "hidden": true
   },
   "outputs": [
    {
     "data": {
      "text/plain": [
       "((100, 3), (3, 1), (1,))"
      ]
     },
     "execution_count": 28,
     "metadata": {},
     "output_type": "execute_result"
    }
   ],
   "source": [
    "X.shape, m.shape, eps.shape"
   ]
  },
  {
   "cell_type": "code",
   "execution_count": 29,
   "metadata": {
    "hidden": true
   },
   "outputs": [
    {
     "data": {
      "text/plain": [
       "<matplotlib.collections.PathCollection at 0x7fefc7044110>"
      ]
     },
     "execution_count": 29,
     "metadata": {},
     "output_type": "execute_result"
    },
    {
     "data": {
      "image/png": "[encoded data removed]",
      "text/plain": [
       "<Figure size 432x288 with 1 Axes>"
      ]
     },
     "metadata": {
      "needs_background": "dark"
     },
     "output_type": "display_data"
    }
   ],
   "source": [
    "plt.scatter(X[:,0], y)"
   ]
  },
  {
   "cell_type": "code",
   "execution_count": 30,
   "metadata": {
    "hidden": true
   },
   "outputs": [],
   "source": [
    "weights = np.ones((n_features, 1))\n",
    "y_hat = X @ weights"
   ]
  },
  {
   "cell_type": "code",
   "execution_count": 31,
   "metadata": {
    "hidden": true
   },
   "outputs": [],
   "source": [
    "def mean_squared_error(y_true, y_pred):\n",
    "    return np.mean((y_true - y_pred) ** 2) * 0.5"
   ]
  },
  {
   "cell_type": "code",
   "execution_count": 32,
   "metadata": {
    "hidden": true
   },
   "outputs": [
    {
     "data": {
      "text/plain": [
       "6.5172410871801345"
      ]
     },
     "execution_count": 32,
     "metadata": {},
     "output_type": "execute_result"
    }
   ],
   "source": [
    "error = mean_squared_error(y, y_hat); error"
   ]
  },
  {
   "cell_type": "code",
   "execution_count": 33,
   "metadata": {
    "hidden": true
   },
   "outputs": [],
   "source": [
    "weights = np.ones((n_features, 1))"
   ]
  },
  {
   "cell_type": "code",
   "execution_count": 34,
   "metadata": {
    "hidden": true
   },
   "outputs": [],
   "source": [
    "def mse_gradient(y_true, y_pred, X, alpha):\n",
    "    return (alpha / len(y_pred)) * (X.T @ (y_pred - y_true))"
   ]
  },
  {
   "cell_type": "code",
   "execution_count": 35,
   "metadata": {
    "hidden": true
   },
   "outputs": [
    {
     "data": {
      "text/plain": [
       "array([[-0.01567354],\n",
       "       [-0.01769319],\n",
       "       [-0.01877155]])"
      ]
     },
     "execution_count": 35,
     "metadata": {},
     "output_type": "execute_result"
    }
   ],
   "source": [
    "gradient = mse_gradient(y, y_hat, X, 8e-3); gradient"
   ]
  },
  {
   "cell_type": "code",
   "execution_count": 36,
   "metadata": {
    "hidden": true
   },
   "outputs": [
    {
     "data": {
      "text/plain": [
       "<matplotlib.collections.PathCollection at 0x7fefc354c910>"
      ]
     },
     "execution_count": 36,
     "metadata": {},
     "output_type": "execute_result"
    },
    {
     "data": {
      "image/png": "[encoded data removed]",
      "text/plain": [
       "<Figure size 432x288 with 1 Axes>"
      ]
     },
     "metadata": {
      "needs_background": "dark"
     },
     "output_type": "display_data"
    }
   ],
   "source": [
    "plt.scatter(X[:,0], y)"
   ]
  },
  {
   "cell_type": "code",
   "execution_count": 37,
   "metadata": {
    "hidden": true
   },
   "outputs": [],
   "source": [
    "X_plot = np.vstack([np.arange(-2,2,0.1), np.arange(-2,2,0.1), np.arange(-2,2,0.1)]).T\n",
    "y_hat = np.matmul(X_plot, weights)"
   ]
  },
  {
   "cell_type": "code",
   "execution_count": 38,
   "metadata": {
    "hidden": true
   },
   "outputs": [
    {
     "data": {
      "text/plain": [
       "<matplotlib.collections.PathCollection at 0x7fefc34e07d0>"
      ]
     },
     "execution_count": 38,
     "metadata": {},
     "output_type": "execute_result"
    },
    {
     "data": {
      "image/png": "[encoded data removed]",
      "text/plain": [
       "<Figure size 432x288 with 1 Axes>"
      ]
     },
     "metadata": {
      "needs_background": "dark"
     },
     "output_type": "display_data"
    }
   ],
   "source": [
    "plt.plot(X_plot[:,0], y_hat[:len(X_plot)])\n",
    "plt.scatter(X[:,0], y)"
   ]
  },
  {
   "cell_type": "code",
   "execution_count": 39,
   "metadata": {
    "hidden": true
   },
   "outputs": [],
   "source": [
    "weights = np.ones((n_features, 1)) * -3"
   ]
  },
  {
   "cell_type": "code",
   "execution_count": 54,
   "metadata": {
    "hidden": true
   },
   "outputs": [
    {
     "data": {
      "text/plain": [
       "[<matplotlib.lines.Line2D at 0x7fefc30bd750>]"
      ]
     },
     "execution_count": 54,
     "metadata": {},
     "output_type": "execute_result"
    },
    {
     "data": {
      "image/png": "[encoded data removed]",
      "text/plain": [
       "<Figure size 432x288 with 1 Axes>"
      ]
     },
     "metadata": {
      "needs_background": "dark"
     },
     "output_type": "display_data"
    }
   ],
   "source": [
    "X_plot = np.vstack([np.arange(-2,2,0.1), np.arange(-2,2,0.1), np.arange(-2,2,0.1)]).T\n",
    "\n",
    "y_hat = np.matmul(X, weights)\n",
    "gradient = mse_gradient(y, y_hat, X, 1e-1)\n",
    "weights = weights - gradient; \n",
    "\n",
    "y_hat_plot = np.matmul(X_plot, weights)\n",
    "\n",
    "plt.scatter(X[:,0], y)\n",
    "plt.plot(X_plot[:,0], y_hat_plot)"
   ]
  },
  {
   "cell_type": "markdown",
   "metadata": {
    "heading_collapsed": true
   },
   "source": [
    "# Class"
   ]
  },
  {
   "cell_type": "code",
   "execution_count": 69,
   "metadata": {
    "hidden": true
   },
   "outputs": [],
   "source": [
    "class LinearRegressor():\n",
    "    def __init__(self):\n",
    "        self.history = {}\n",
    "    def predict(self, X):\n",
    "        y_hat = X @ self.weights\n",
    "        return y_hat\n",
    "    def mean_squared_error(self, y_true, y_pred):\n",
    "        return np.mean((y_pred - y_true) ** 2) * 0.5\n",
    "    def mse_gradient(self, y_true, y_pred, X, alpha):\n",
    "        return (alpha / len(y_true)) * (X.T @ (y_pred - y_true))\n",
    "    def fit(self, X, y, lr = 1e-5, steps = 10):\n",
    "        self.weights = np.ones((n_features, 1))\n",
    "        for step in range(steps):\n",
    "            y_hat = self.predict(X)\n",
    "            error = self.mean_squared_error(y, y_hat)\n",
    "            gradient = self.mse_gradient(y, y_hat, X, lr)\n",
    "            self.weights = self.weights - gradient\n",
    "            self.history[step] = {\"gradient\": np.squeeze(gradient), \"error\": error}"
   ]
  },
  {
   "cell_type": "code",
   "execution_count": 70,
   "metadata": {
    "hidden": true
   },
   "outputs": [],
   "source": [
    "reg = LinearRegressor()"
   ]
  },
  {
   "cell_type": "code",
   "execution_count": 79,
   "metadata": {
    "hidden": true
   },
   "outputs": [],
   "source": [
    "reg.fit(X, y, steps=20)"
   ]
  },
  {
   "cell_type": "code",
   "execution_count": 85,
   "metadata": {
    "hidden": true
   },
   "outputs": [],
   "source": [
    "y_hat_plot = reg.predict(X_plot)"
   ]
  },
  {
   "cell_type": "code",
   "execution_count": 86,
   "metadata": {
    "hidden": true
   },
   "outputs": [
    {
     "data": {
      "text/plain": [
       "((40, 1), (40,))"
      ]
     },
     "execution_count": 86,
     "metadata": {},
     "output_type": "execute_result"
    }
   ],
   "source": [
    "y_hat_plot.shape, X_plot[:,0].shape"
   ]
  },
  {
   "cell_type": "code",
   "execution_count": 88,
   "metadata": {
    "hidden": true
   },
   "outputs": [
    {
     "data": {
      "text/plain": [
       "[<matplotlib.lines.Line2D at 0x7fefc2baca90>]"
      ]
     },
     "execution_count": 88,
     "metadata": {},
     "output_type": "execute_result"
    },
    {
     "data": {
      "image/png": "[encoded data removed]",
      "text/plain": [
       "<Figure size 432x288 with 1 Axes>"
      ]
     },
     "metadata": {
      "needs_background": "dark"
     },
     "output_type": "display_data"
    }
   ],
   "source": [
    "plt.scatter(X[:,0], y)\n",
    "plt.plot(X_plot[:,0], y_hat_plot)"
   ]
  }
 ],
 "metadata": {
  "kernelspec": {
   "display_name": "pydev",
   "language": "python",
   "name": "pydev"
  },
  "language_info": {
   "codemirror_mode": {
    "name": "ipython",
    "version": 3
   },
   "file_extension": ".py",
   "mimetype": "text/x-python",
   "name": "python",
   "nbconvert_exporter": "python",
   "pygments_lexer": "ipython3",
   "version": "3.7.4"
  },
  "latex_envs": {
   "LaTeX_envs_menu_present": true,
   "autoclose": false,
   "autocomplete": true,
   "bibliofile": "biblio.bib",
   "cite_by": "apalike",
   "current_citInitial": 1,
   "eqLabelWithNumbers": true,
   "eqNumInitial": 1,
   "hotkeys": {
    "equation": "Ctrl-E",
    "itemize": "Ctrl-I"
   },
   "labels_anchors": false,
   "latex_user_defs": false,
   "report_style_numbering": false,
   "user_envs_cfg": false
  },
  "toc": {
   "base_numbering": 1,
   "nav_menu": {},
   "number_sections": true,
   "sideBar": true,
   "skip_h1_title": false,
   "title_cell": "Table of Contents",
   "title_sidebar": "Contents",
   "toc_cell": false,
   "toc_position": {},
   "toc_section_display": true,
   "toc_window_display": false
  }
 },
 "nbformat": 4,
 "nbformat_minor": 4
}
